{
 "cells": [
  {
   "cell_type": "code",
   "execution_count": 1,
   "metadata": {},
   "outputs": [],
   "source": [
    "import requests\n",
    "from bs4 import BeautifulSoup\n",
    "from tqdm import tqdm\n",
    "import time\n",
    "import numpy as np\n",
    "import re\n",
    "import pandas as pd\n",
    "import sys"
   ]
  },
  {
   "cell_type": "code",
   "execution_count": 2,
   "metadata": {},
   "outputs": [
    {
     "data": {
      "text/plain": [
       "'https://web.pcc.gov.tw/prkms/tender/common/agent/readTenderAgent?pageSize=3000&firstSearch=false&orgName=&orgId=&tenderName=&tenderId=&tenderStatus=TENDER_STATUS_1&tenderWay=TENDER_WAY_ALL_DECLARATION&awardAnnounceStartDate=2022%2F08%2F08&awardAnnounceEndDate=2022%2F08%2F08&radProctrgCate=RAD_PROCTRG_CATE_1&tenderRange=TENDER_RANGE_ALL&minBudget=&maxBudget=&item=&gottenVendorName=&gottenVendorId=&submitVendorName=&submitVendorId=&execLocation=&priorityCate=&radReConstruct='"
      ]
     },
     "execution_count": 2,
     "metadata": {},
     "output_type": "execute_result"
    }
   ],
   "source": [
    "start_year = '2022'\n",
    "end_year = '2022'\n",
    "\n",
    "start_month = '08'\n",
    "end_month = '08'\n",
    "\n",
    "start_day = '08'\n",
    "end_date = '08'\n",
    "\n",
    "url = 'https://web.pcc.gov.tw/prkms/tender/common/agent/readTenderAgent?pageSize=3000&\\\n",
    "firstSearch=false&orgName=&orgId=&tenderName=&tenderId=&tenderStatus=TENDER_STATUS_1&\\\n",
    "tenderWay=TENDER_WAY_ALL_DECLARATION&awardAnnounceStartDate='+start_year+'%2F'+start_month+'%2F'+start_day+'&\\\n",
    "awardAnnounceEndDate='+end_year+'%2F'+end_month+'%2F'+end_date+'&radProctrgCate=RAD_PROCTRG_CATE_1&\\\n",
    "tenderRange=TENDER_RANGE_ALL&minBudget=&maxBudget=&item=&gottenVendorName=&\\\n",
    "gottenVendorId=&submitVendorName=&submitVendorId=&execLocation=&priorityCate=&radReConstruct='\n",
    "\n",
    "url"
   ]
  },
  {
   "cell_type": "code",
   "execution_count": 3,
   "metadata": {},
   "outputs": [
    {
     "data": {
      "text/plain": [
       "147"
      ]
     },
     "execution_count": 3,
     "metadata": {},
     "output_type": "execute_result"
    }
   ],
   "source": [
    "response = requests.get(url)\n",
    "soup = BeautifulSoup(response.text, \"html.parser\")\n",
    "titles = soup.find_all('a', title='001')\n",
    "keys = []\n",
    "\n",
    "for title in titles:\n",
    "    key = title.get('href')[-12:]\n",
    "    keys.append(key)\n",
    "    \n",
    "len(keys)"
   ]
  },
  {
   "cell_type": "code",
   "execution_count": 4,
   "metadata": {},
   "outputs": [],
   "source": [
    "datas = []"
   ]
  },
  {
   "cell_type": "code",
   "execution_count": 5,
   "metadata": {},
   "outputs": [],
   "source": [
    "# print(soup.prettify())  #輸出排版後的HTML內容\n",
    "# print(titles)\n",
    "# print(key)\n",
    "# keys"
   ]
  },
  {
   "cell_type": "code",
   "execution_count": 6,
   "metadata": {},
   "outputs": [],
   "source": [
    "#中斷接續\n",
    "# temp_keys = keys[533:]"
   ]
  },
  {
   "cell_type": "code",
   "execution_count": 7,
   "metadata": {},
   "outputs": [
    {
     "name": "stderr",
     "output_type": "stream",
     "text": [
      "100%|██████████| 147/147 [39:26<00:00, 16.10s/it]\n"
     ]
    }
   ],
   "source": [
    "site = 'https://web.pcc.gov.tw/tps/atm/AtmAwardWithoutSso/QueryAtmAwardDetail?pkAtmMain='\n",
    "\n",
    "for key in tqdm(keys, position=0, leave=True):\n",
    "    response = requests.get(site+key)\n",
    "    soup = BeautifulSoup(response.text, \"html.parser\")\n",
    "\n",
    "    #公告日\n",
    "    result = soup.find('p').getText()\n",
    "    date = result[5:]\n",
    "\n",
    "    #標案資料\n",
    "    columns = ['機關名稱', '標案案號', '標案名稱', '履約地點（含地區）', '廠商代碼', '廠商名稱', '廠商地址', '廠商電話', '決標金額']\n",
    "    i = 0\n",
    "    data = [site+key, date]\n",
    "    titles = soup.find_all('tr', class_='tb_s06')\n",
    "\n",
    "    for title in titles:\n",
    "        text = title.getText().replace('\\n', '').replace('\\t', '').replace('\\r', '').strip()\n",
    "        res = [ele for ele in columns if(text.startswith(ele))]\n",
    "\n",
    "        if (bool(res)):\n",
    "            data.append(text)\n",
    "            \n",
    "        if text.startswith('決標金額'):\n",
    "            break\n",
    "\n",
    "    #     print(i, text)\n",
    "        i+=1\n",
    "        \n",
    "    if data == [site+key, date]:\n",
    "        break\n",
    "\n",
    "    datas.append(data)\n",
    "    time.sleep(15)"
   ]
  },
  {
   "cell_type": "code",
   "execution_count": 8,
   "metadata": {},
   "outputs": [],
   "source": [
    "# print(soup.prettify())\n",
    "# print(date)\n",
    "# datas"
   ]
  },
  {
   "cell_type": "code",
   "execution_count": 9,
   "metadata": {},
   "outputs": [],
   "source": [
    "temp_datas = datas\n",
    "\n",
    "#刪除未得標廠商\n",
    "for data in temp_datas:\n",
    "    while len(data) > 11:\n",
    "        data.pop(6)\n",
    "        \n",
    "temp_datas = np.reshape(temp_datas, (len(temp_datas), 11)).T\n",
    "\n",
    "# 欄位整理\n",
    "for i in range(2, 11):\n",
    "    temp = []\n",
    "    if i == 5:\n",
    "        for j in temp_datas[i]:\n",
    "            temp.append(j[9:])\n",
    "        temp_datas[i] = temp\n",
    "    elif i == 6:\n",
    "        for j in temp_datas[i]:\n",
    "            temp.append(j[4:].strip())\n",
    "        temp_datas[i] = temp\n",
    "    elif i == 10:\n",
    "        for j in temp_datas[i]:\n",
    "            temp.append(re.sub('\\D', '', j))\n",
    "        temp_datas[i] = temp\n",
    "    else:\n",
    "        for j in temp_datas[i]:\n",
    "            temp.append(j[4:])\n",
    "        temp_datas[i] = temp\n",
    "\n",
    "temp = temp_datas[8].copy()\n",
    "temp_datas[8] = temp_datas[10]\n",
    "temp_datas[10] = temp_datas[9]\n",
    "temp_datas[9] = temp"
   ]
  },
  {
   "cell_type": "code",
   "execution_count": 10,
   "metadata": {},
   "outputs": [
    {
     "name": "stdout",
     "output_type": "stream",
     "text": [
      "<class 'ValueError'> occurred.\n"
     ]
    },
    {
     "data": {
      "text/html": [
       "<div>\n",
       "<style scoped>\n",
       "    .dataframe tbody tr th:only-of-type {\n",
       "        vertical-align: middle;\n",
       "    }\n",
       "\n",
       "    .dataframe tbody tr th {\n",
       "        vertical-align: top;\n",
       "    }\n",
       "\n",
       "    .dataframe thead th {\n",
       "        text-align: right;\n",
       "    }\n",
       "</style>\n",
       "<table border=\"1\" class=\"dataframe\">\n",
       "  <thead>\n",
       "    <tr style=\"text-align: right;\">\n",
       "      <th></th>\n",
       "      <th>標案網址</th>\n",
       "      <th>公告日期</th>\n",
       "      <th>機關名稱</th>\n",
       "      <th>標案案號</th>\n",
       "      <th>標案名稱</th>\n",
       "      <th>履約地點（含地區）</th>\n",
       "      <th>廠商代碼</th>\n",
       "      <th>廠商名稱</th>\n",
       "      <th>決標金額</th>\n",
       "      <th>廠商地址</th>\n",
       "      <th>廠商電話</th>\n",
       "    </tr>\n",
       "  </thead>\n",
       "  <tbody>\n",
       "    <tr>\n",
       "      <th>0</th>\n",
       "      <td>https://web.pcc.gov.tw/tps/atm/AtmAwardWithout...</td>\n",
       "      <td>111/08/09</td>\n",
       "      <td>臺灣港務股份有限公司高雄港務分公司</td>\n",
       "      <td>A0E220051-1</td>\n",
       "      <td>高雄港蓬萊港區基礎設施改善工程</td>\n",
       "      <td>高雄市－鼓山區</td>\n",
       "      <td>85778902</td>\n",
       "      <td>振勝營造有限公司</td>\n",
       "      <td>319827000</td>\n",
       "      <td>831高雄市大寮區上發六路1號2樓</td>\n",
       "      <td>(07)7875756</td>\n",
       "    </tr>\n",
       "    <tr>\n",
       "      <th>1</th>\n",
       "      <td>https://web.pcc.gov.tw/tps/atm/AtmAwardWithout...</td>\n",
       "      <td>111/08/08</td>\n",
       "      <td>高雄市桃源區樟山國民小學</td>\n",
       "      <td>ZAS11106</td>\n",
       "      <td>111年非山非市改善及充實教學環境工程-班級及專科教室(英語、音樂）</td>\n",
       "      <td>高雄市－桃源區</td>\n",
       "      <td>82800825</td>\n",
       "      <td>耘嵿設計顧問室內裝修有限公司</td>\n",
       "      <td>1843043</td>\n",
       "      <td>110臺北市信義區忠孝東路5段476號8樓</td>\n",
       "      <td>(02)2760057#203</td>\n",
       "    </tr>\n",
       "    <tr>\n",
       "      <th>2</th>\n",
       "      <td>https://web.pcc.gov.tw/tps/atm/AtmAwardWithout...</td>\n",
       "      <td>111/08/08</td>\n",
       "      <td>行政院農業委員會農業試驗所</td>\n",
       "      <td>1111072</td>\n",
       "      <td>訓練中心及作物大樓耐震補強工程</td>\n",
       "      <td>臺中市－霧峰區</td>\n",
       "      <td>72197657</td>\n",
       "      <td>王田營造股份有限公司</td>\n",
       "      <td>23570000</td>\n",
       "      <td>643雲林縣林內鄉中正路417號1樓</td>\n",
       "      <td>(05)5375660</td>\n",
       "    </tr>\n",
       "    <tr>\n",
       "      <th>3</th>\n",
       "      <td>https://web.pcc.gov.tw/tps/atm/AtmAwardWithout...</td>\n",
       "      <td>111/08/08</td>\n",
       "      <td>國立花蓮高級工業職業學校</td>\n",
       "      <td>111-09-02</td>\n",
       "      <td>原住民文化空間裝修工程</td>\n",
       "      <td>花蓮縣－花蓮</td>\n",
       "      <td>50746200</td>\n",
       "      <td>勝全土木包工業</td>\n",
       "      <td>979159</td>\n",
       "      <td>976花蓮縣光復鄉大華村中華路２０３號１樓</td>\n",
       "      <td>(0917)163073</td>\n",
       "    </tr>\n",
       "    <tr>\n",
       "      <th>4</th>\n",
       "      <td>https://web.pcc.gov.tw/tps/atm/AtmAwardWithout...</td>\n",
       "      <td>111/08/08</td>\n",
       "      <td>臺北市政府工務局</td>\n",
       "      <td>1110531C0104</td>\n",
       "      <td>111年度新孝悌樓教學空間優化及室內裝修工程</td>\n",
       "      <td>臺北市－內湖區</td>\n",
       "      <td>97289957</td>\n",
       "      <td>喜萊登室內裝修有限公司</td>\n",
       "      <td>16740000</td>\n",
       "      <td>110臺北市信義區莊敬路178巷2號2樓</td>\n",
       "      <td>(09)32035104</td>\n",
       "    </tr>\n",
       "  </tbody>\n",
       "</table>\n",
       "</div>"
      ],
      "text/plain": [
       "                                                標案網址       公告日期  \\\n",
       "0  https://web.pcc.gov.tw/tps/atm/AtmAwardWithout...  111/08/09   \n",
       "1  https://web.pcc.gov.tw/tps/atm/AtmAwardWithout...  111/08/08   \n",
       "2  https://web.pcc.gov.tw/tps/atm/AtmAwardWithout...  111/08/08   \n",
       "3  https://web.pcc.gov.tw/tps/atm/AtmAwardWithout...  111/08/08   \n",
       "4  https://web.pcc.gov.tw/tps/atm/AtmAwardWithout...  111/08/08   \n",
       "\n",
       "                機關名稱          標案案號                                標案名稱  \\\n",
       "0  臺灣港務股份有限公司高雄港務分公司   A0E220051-1                     高雄港蓬萊港區基礎設施改善工程   \n",
       "1       高雄市桃源區樟山國民小學      ZAS11106  111年非山非市改善及充實教學環境工程-班級及專科教室(英語、音樂）   \n",
       "2      行政院農業委員會農業試驗所       1111072                     訓練中心及作物大樓耐震補強工程   \n",
       "3       國立花蓮高級工業職業學校     111-09-02                         原住民文化空間裝修工程   \n",
       "4           臺北市政府工務局  1110531C0104              111年度新孝悌樓教學空間優化及室內裝修工程   \n",
       "\n",
       "  履約地點（含地區）      廠商代碼            廠商名稱       決標金額                   廠商地址  \\\n",
       "0   高雄市－鼓山區  85778902        振勝營造有限公司  319827000      831高雄市大寮區上發六路1號2樓   \n",
       "1   高雄市－桃源區  82800825  耘嵿設計顧問室內裝修有限公司    1843043  110臺北市信義區忠孝東路5段476號8樓   \n",
       "2   臺中市－霧峰區  72197657      王田營造股份有限公司   23570000     643雲林縣林內鄉中正路417號1樓   \n",
       "3    花蓮縣－花蓮  50746200         勝全土木包工業     979159  976花蓮縣光復鄉大華村中華路２０３號１樓   \n",
       "4   臺北市－內湖區  97289957     喜萊登室內裝修有限公司   16740000   110臺北市信義區莊敬路178巷2號2樓   \n",
       "\n",
       "              廠商電話  \n",
       "0      (07)7875756  \n",
       "1  (02)2760057#203  \n",
       "2      (05)5375660  \n",
       "3     (0917)163073  \n",
       "4     (09)32035104  "
      ]
     },
     "execution_count": 10,
     "metadata": {},
     "output_type": "execute_result"
    }
   ],
   "source": [
    "df = pd.DataFrame(temp_datas.T, columns=['標案網址', '公告日期', '機關名稱', '標案案號',\n",
    "                                         '標案名稱', '履約地點（含地區）', '廠商代碼',\n",
    "                                         '廠商名稱', '決標金額', '廠商地址', '廠商電話'])\n",
    "try:\n",
    "    df['決標金額'] = df['決標金額'].astype(int)\n",
    "except:\n",
    "    print(sys.exc_info()[0], \"occurred.\")\n",
    "finally:\n",
    "    df.to_excel('採購公報_'+start_year[2:]+start_month+start_day+'-'+end_year[2:]+end_month+end_date+'.xlsx')\n",
    "df.head()"
   ]
  },
  {
   "cell_type": "code",
   "execution_count": 11,
   "metadata": {},
   "outputs": [
    {
     "data": {
      "text/plain": [
       "(147, 11)"
      ]
     },
     "execution_count": 11,
     "metadata": {},
     "output_type": "execute_result"
    }
   ],
   "source": [
    "df.shape"
   ]
  },
  {
   "cell_type": "code",
   "execution_count": null,
   "metadata": {},
   "outputs": [],
   "source": []
  },
  {
   "cell_type": "code",
   "execution_count": null,
   "metadata": {},
   "outputs": [],
   "source": []
  }
 ],
 "metadata": {
  "kernelspec": {
   "display_name": "Python 3",
   "language": "python",
   "name": "python3"
  },
  "language_info": {
   "codemirror_mode": {
    "name": "ipython",
    "version": 3
   },
   "file_extension": ".py",
   "mimetype": "text/x-python",
   "name": "python",
   "nbconvert_exporter": "python",
   "pygments_lexer": "ipython3",
   "version": "3.7.6"
  }
 },
 "nbformat": 4,
 "nbformat_minor": 4
}
