{
 "cells": [
  {
   "cell_type": "code",
   "execution_count": 1,
   "metadata": {
    "scrolled": true
   },
   "outputs": [],
   "source": [
    "import requests\n",
    "from bs4 import BeautifulSoup\n",
    "from tqdm import tqdm\n",
    "\n",
    "import pandas as pd"
   ]
  },
  {
   "cell_type": "code",
   "execution_count": 2,
   "metadata": {},
   "outputs": [
    {
     "name": "stderr",
     "output_type": "stream",
     "text": [
      "100%|██████████| 61/61 [00:51<00:00,  1.19it/s]\n"
     ]
    }
   ],
   "source": [
    "l = []\n",
    "\n",
    "for k in tqdm(range(61)): #目前最多61頁\n",
    "    res = requests.get('https://www.tatungforeverenergy.com/News?page='+str(k))\n",
    "    soup = BeautifulSoup(res.text, 'html.parser')\n",
    "    \n",
    "    result = soup.find_all('div', class_='col-lg-4 col-md-6')\n",
    "    \n",
    "    for i in result:\n",
    "        l.append([i.find('h5').getText(), i.find('h4').getText(),\n",
    "                  i.find('p').getText().replace('&nbsp;', '').strip(),\n",
    "                 'https://www.tatungforeverenergy.com'+i.find('a')['href']])"
   ]
  },
  {
   "cell_type": "code",
   "execution_count": 3,
   "metadata": {},
   "outputs": [],
   "source": [
    "df = pd.DataFrame(l, columns=['日期','標題','內文','網址'])"
   ]
  },
  {
   "cell_type": "code",
   "execution_count": 4,
   "metadata": {},
   "outputs": [
    {
     "data": {
      "text/html": [
       "<div>\n",
       "<style scoped>\n",
       "    .dataframe tbody tr th:only-of-type {\n",
       "        vertical-align: middle;\n",
       "    }\n",
       "\n",
       "    .dataframe tbody tr th {\n",
       "        vertical-align: top;\n",
       "    }\n",
       "\n",
       "    .dataframe thead th {\n",
       "        text-align: right;\n",
       "    }\n",
       "</style>\n",
       "<table border=\"1\" class=\"dataframe\">\n",
       "  <thead>\n",
       "    <tr style=\"text-align: right;\">\n",
       "      <th></th>\n",
       "      <th>日期</th>\n",
       "      <th>標題</th>\n",
       "      <th>內文</th>\n",
       "      <th>網址</th>\n",
       "    </tr>\n",
       "  </thead>\n",
       "  <tbody>\n",
       "    <tr>\n",
       "      <th>0</th>\n",
       "      <td>2022/6/18</td>\n",
       "      <td>大同智能 風光語海音樂會</td>\n",
       "      <td>基隆城市博覽會為期十天，即將邁入尾聲，Ｃ展區以八斗子的國立海科館為軸心，往北到潮境公園，往東...</td>\n",
       "      <td>https://www.tatungforeverenergy.com/News/Detai...</td>\n",
       "    </tr>\n",
       "    <tr>\n",
       "      <th>1</th>\n",
       "      <td>2022/6/1</td>\n",
       "      <td>日前輔助市場上線！大同開啟電力交易新紀元</td>\n",
       "      <td>智電網系統整合大廠大同(2371)近日拔得頭籌，於桃園大園之4MW儲能系統通過台電調頻備轉輔...</td>\n",
       "      <td>https://www.tatungforeverenergy.com/News/Detai...</td>\n",
       "    </tr>\n",
       "    <tr>\n",
       "      <th>2</th>\n",
       "      <td>2022/5/5</td>\n",
       "      <td>大同強攻太陽能 加碼投資</td>\n",
       "      <td>大同（2371）公布股東會年報，董事長王光祥在營業報告書中強調，今年將對太陽能、智慧儲能及電...</td>\n",
       "      <td>https://www.tatungforeverenergy.com/News/Detai...</td>\n",
       "    </tr>\n",
       "    <tr>\n",
       "      <th>3</th>\n",
       "      <td>2021/10/17</td>\n",
       "      <td>全台實績-台南中山國中475.2kWp</td>\n",
       "      <td></td>\n",
       "      <td>https://www.tatungforeverenergy.com/News/Detai...</td>\n",
       "    </tr>\n",
       "    <tr>\n",
       "      <th>4</th>\n",
       "      <td>2021/10/17</td>\n",
       "      <td>國家數位轉型推手_Tatung</td>\n",
       "      <td>What you know about TATUNG? \\r\\n\\r\\n\\tAre you ...</td>\n",
       "      <td>https://www.tatungforeverenergy.com/News/Detai...</td>\n",
       "    </tr>\n",
       "    <tr>\n",
       "      <th>...</th>\n",
       "      <td>...</td>\n",
       "      <td>...</td>\n",
       "      <td>...</td>\n",
       "      <td>...</td>\n",
       "    </tr>\n",
       "    <tr>\n",
       "      <th>355</th>\n",
       "      <td>2019/2/22</td>\n",
       "      <td>全台實績-北台灣 公有房舍_信義清潔隊 36.6 kWp</td>\n",
       "      <td></td>\n",
       "      <td>https://www.tatungforeverenergy.com/News/Detai...</td>\n",
       "    </tr>\n",
       "    <tr>\n",
       "      <th>356</th>\n",
       "      <td>2019/2/22</td>\n",
       "      <td>全台實績-北台灣 公有房舍_景美汙水抽水站 85.40kWp</td>\n",
       "      <td></td>\n",
       "      <td>https://www.tatungforeverenergy.com/News/Detai...</td>\n",
       "    </tr>\n",
       "    <tr>\n",
       "      <th>357</th>\n",
       "      <td>2019/2/15</td>\n",
       "      <td>全台實績-北台灣 公有房舍_南港山水綠生態公園「台北能源之丘2.0啟用典禮」</td>\n",
       "      <td></td>\n",
       "      <td>https://www.tatungforeverenergy.com/News/Detai...</td>\n",
       "    </tr>\n",
       "    <tr>\n",
       "      <th>358</th>\n",
       "      <td>2019/1/31</td>\n",
       "      <td>全台實績-中台灣 中部汽車(彰化營業所) 336.72kWp</td>\n",
       "      <td></td>\n",
       "      <td>https://www.tatungforeverenergy.com/News/Detai...</td>\n",
       "    </tr>\n",
       "    <tr>\n",
       "      <th>359</th>\n",
       "      <td>2019/1/30</td>\n",
       "      <td>全台實績-北台灣 公有房舍_民生停車場-117.12kW</td>\n",
       "      <td></td>\n",
       "      <td>https://www.tatungforeverenergy.com/News/Detai...</td>\n",
       "    </tr>\n",
       "  </tbody>\n",
       "</table>\n",
       "<p>360 rows × 4 columns</p>\n",
       "</div>"
      ],
      "text/plain": [
       "             日期                                      標題  \\\n",
       "0     2022/6/18                            大同智能 風光語海音樂會   \n",
       "1      2022/6/1                    日前輔助市場上線！大同開啟電力交易新紀元   \n",
       "2      2022/5/5                            大同強攻太陽能 加碼投資   \n",
       "3    2021/10/17                     全台實績-台南中山國中475.2kWp   \n",
       "4    2021/10/17                         國家數位轉型推手_Tatung   \n",
       "..          ...                                     ...   \n",
       "355   2019/2/22            全台實績-北台灣 公有房舍_信義清潔隊 36.6 kWp   \n",
       "356   2019/2/22          全台實績-北台灣 公有房舍_景美汙水抽水站 85.40kWp   \n",
       "357   2019/2/15  全台實績-北台灣 公有房舍_南港山水綠生態公園「台北能源之丘2.0啟用典禮」   \n",
       "358   2019/1/31          全台實績-中台灣 中部汽車(彰化營業所) 336.72kWp   \n",
       "359   2019/1/30            全台實績-北台灣 公有房舍_民生停車場-117.12kW   \n",
       "\n",
       "                                                    內文  \\\n",
       "0    基隆城市博覽會為期十天，即將邁入尾聲，Ｃ展區以八斗子的國立海科館為軸心，往北到潮境公園，往東...   \n",
       "1    智電網系統整合大廠大同(2371)近日拔得頭籌，於桃園大園之4MW儲能系統通過台電調頻備轉輔...   \n",
       "2    大同（2371）公布股東會年報，董事長王光祥在營業報告書中強調，今年將對太陽能、智慧儲能及電...   \n",
       "3                                                        \n",
       "4    What you know about TATUNG? \\r\\n\\r\\n\\tAre you ...   \n",
       "..                                                 ...   \n",
       "355                                                      \n",
       "356                                                      \n",
       "357                                                      \n",
       "358                                                      \n",
       "359                                                      \n",
       "\n",
       "                                                    網址  \n",
       "0    https://www.tatungforeverenergy.com/News/Detai...  \n",
       "1    https://www.tatungforeverenergy.com/News/Detai...  \n",
       "2    https://www.tatungforeverenergy.com/News/Detai...  \n",
       "3    https://www.tatungforeverenergy.com/News/Detai...  \n",
       "4    https://www.tatungforeverenergy.com/News/Detai...  \n",
       "..                                                 ...  \n",
       "355  https://www.tatungforeverenergy.com/News/Detai...  \n",
       "356  https://www.tatungforeverenergy.com/News/Detai...  \n",
       "357  https://www.tatungforeverenergy.com/News/Detai...  \n",
       "358  https://www.tatungforeverenergy.com/News/Detai...  \n",
       "359  https://www.tatungforeverenergy.com/News/Detai...  \n",
       "\n",
       "[360 rows x 4 columns]"
      ]
     },
     "execution_count": 4,
     "metadata": {},
     "output_type": "execute_result"
    }
   ],
   "source": [
    "df"
   ]
  },
  {
   "cell_type": "code",
   "execution_count": 5,
   "metadata": {},
   "outputs": [],
   "source": [
    "df.to_excel('大同永續能源.xlsx')"
   ]
  },
  {
   "cell_type": "code",
   "execution_count": null,
   "metadata": {},
   "outputs": [],
   "source": []
  },
  {
   "cell_type": "code",
   "execution_count": null,
   "metadata": {},
   "outputs": [],
   "source": []
  },
  {
   "cell_type": "code",
   "execution_count": 6,
   "metadata": {
    "scrolled": true
   },
   "outputs": [],
   "source": [
    "# import re\n",
    "\n",
    "# i = 1\n",
    "# while i < 61:\n",
    "#     print(\"第\"+str(i)+\"頁\")\n",
    "#     res = requests.get(\"https://www.tatungforeverenergy.com/News?page=\"+str(i))\n",
    "#     soup = BeautifulSoup(res.text, 'html.parser')\n",
    "\n",
    "#     articles = soup.select('h4')\n",
    "#     img_links = soup.find_all(\"img\", {\"src\": re.compile('.*?\\.jpg')})\n",
    "\n",
    "#     for each_title in articles:\n",
    "#         print(each_title.text)\n",
    "\n",
    "#     for link in img_links:\n",
    "#         print(\"https://www.tatungforeverenergy.com\"+link['src'])\n",
    "\n",
    "#     i+= 1"
   ]
  },
  {
   "cell_type": "code",
   "execution_count": null,
   "metadata": {},
   "outputs": [],
   "source": []
  }
 ],
 "metadata": {
  "kernelspec": {
   "display_name": "Python 3",
   "language": "python",
   "name": "python3"
  },
  "language_info": {
   "codemirror_mode": {
    "name": "ipython",
    "version": 3
   },
   "file_extension": ".py",
   "mimetype": "text/x-python",
   "name": "python",
   "nbconvert_exporter": "python",
   "pygments_lexer": "ipython3",
   "version": "3.7.6"
  }
 },
 "nbformat": 4,
 "nbformat_minor": 4
}
