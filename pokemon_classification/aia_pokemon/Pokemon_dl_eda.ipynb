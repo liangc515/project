{
 "cells": [
  {
   "cell_type": "code",
   "execution_count": 1,
   "metadata": {},
   "outputs": [],
   "source": [
    "import pandas as pd\n",
    "import matplotlib.pyplot as plt\n",
    "import numpy as np\n",
    "\n",
    "import seaborn as sns       \n",
    "from scipy import stats\n",
    "\n",
    "import warnings\n",
    "\n",
    "warnings.filterwarnings('ignore')\n",
    "%matplotlib inline  \n",
    "# 为了在jupyter notebook里作图，需要用到这个命令"
   ]
  },
  {
   "cell_type": "markdown",
   "metadata": {},
   "source": [
    "## Load train data and test data\n",
    "#### 並先刪除不必要的欄位"
   ]
  },
  {
   "cell_type": "code",
   "execution_count": 2,
   "metadata": {},
   "outputs": [
    {
     "name": "stdout",
     "output_type": "stream",
     "text": [
      "(7160, 184)\n",
      "y_train: (7160,)\n",
      "x_train: (7160, 182)\n"
     ]
    }
   ],
   "source": [
    "train_file=\"./data/train.csv\"\n",
    "test_file=\"./data/test.csv\"\n",
    "\n",
    "train = pd.read_csv(train_file)\n",
    "#train.drop(\"ID\", axis = 1, inplace = True)\n",
    "print (train.shape)\n",
    "# 取出train data的y值\n",
    "y_train=train['class']\n",
    "print (\"y_train:\",y_train.shape)\n",
    "train.drop([\"ID\",\"class\"], axis = 1, inplace = True)\n",
    "x_train=train\n",
    "print (\"x_train:\",x_train.shape)\n"
   ]
  },
  {
   "cell_type": "code",
   "execution_count": 84,
   "metadata": {},
   "outputs": [
    {
     "name": "stdout",
     "output_type": "stream",
     "text": [
      "x_test: (1791, 182)\n",
      "<class 'pandas.core.frame.DataFrame'>\n",
      "RangeIndex: 7160 entries, 0 to 7159\n",
      "Columns: 182 entries, appearedTimeOfDay to cooc_151\n",
      "dtypes: bool(168), float64(6), int64(3), object(5)\n",
      "memory usage: 1.9+ MB\n",
      "None\n"
     ]
    }
   ],
   "source": [
    "x_test = pd.read_csv(test_file)\n",
    "x_test_id=x_test[\"id\"]\n",
    "x_test.drop([\"id\"], axis = 1, inplace = True)\n",
    "print (\"x_test:\",x_test.shape)\n",
    "print (train.info())"
   ]
  },
  {
   "cell_type": "markdown",
   "metadata": {},
   "source": [
    "## 將train data和test data combine起來，後續一起做資料處理\n",
    "#### 如果分開做的話，做one-hot-encoding時可能會有feature數量不一致的問題"
   ]
  },
  {
   "cell_type": "code",
   "execution_count": 85,
   "metadata": {},
   "outputs": [
    {
     "name": "stdout",
     "output_type": "stream",
     "text": [
      "(8951, 182)\n"
     ]
    }
   ],
   "source": [
    "data=pd.concat([x_train,x_test],axis=0,ignore_index = False)\n",
    "print (data.shape)\n",
    "#紀錄train data的筆數,後續EDA完成後要再依此筆數拆分train data和test data\n",
    "x_train_qty=x_train.shape[0]"
   ]
  },
  {
   "cell_type": "markdown",
   "metadata": {},
   "source": [
    "## 判斷fetures是屬於categorical or numerical"
   ]
  },
  {
   "cell_type": "code",
   "execution_count": 86,
   "metadata": {},
   "outputs": [
    {
     "name": "stdout",
     "output_type": "stream",
     "text": [
      "Index(['appearedTimeOfDay', 'city', 'continent', 'weather', 'weatherIcon'], dtype='object')\n",
      "Index(['appearedHour', 'appearedMinute', 'terrainType', 'closeToWater',\n",
      "       'temperature', 'windSpeed', 'pressure', 'population_density', 'urban',\n",
      "       'suburban',\n",
      "       ...\n",
      "       'cooc_142', 'cooc_143', 'cooc_144', 'cooc_145', 'cooc_146', 'cooc_147',\n",
      "       'cooc_148', 'cooc_149', 'cooc_150', 'cooc_151'],\n",
      "      dtype='object', length=177)\n",
      "Categorical features : 5\n",
      "Numerical features : 177\n"
     ]
    }
   ],
   "source": [
    "# Differentiate numerical features (minus the target) and categorical features\n",
    "categorical_features = data.select_dtypes(include=['object']).columns\n",
    "print(categorical_features)\n",
    "numerical_features = data.select_dtypes(exclude = [\"object\"]).columns\n",
    "print(numerical_features)\n",
    "print(\"Categorical features : \" + str(len(categorical_features)))\n",
    "print(\"Numerical features : \" + str(len(numerical_features)))"
   ]
  },
  {
   "cell_type": "markdown",
   "metadata": {},
   "source": [
    "## 檢查Features datatype"
   ]
  },
  {
   "cell_type": "code",
   "execution_count": 87,
   "metadata": {},
   "outputs": [
    {
     "name": "stdout",
     "output_type": "stream",
     "text": [
      "[dtype('O') dtype('int64') dtype('bool') dtype('float64')]\n",
      "5\n",
      "Index(['appearedTimeOfDay', 'city', 'continent', 'weather', 'weatherIcon'], dtype='object')\n"
     ]
    }
   ],
   "source": [
    "print(data.dtypes.unique())\n",
    "print(len(data.select_dtypes(include=['O']).columns))\n",
    "print(data.select_dtypes(include=['O']).columns)"
   ]
  },
  {
   "cell_type": "code",
   "execution_count": 88,
   "metadata": {},
   "outputs": [
    {
     "data": {
      "text/html": [
       "<div>\n",
       "<style scoped>\n",
       "    .dataframe tbody tr th:only-of-type {\n",
       "        vertical-align: middle;\n",
       "    }\n",
       "\n",
       "    .dataframe tbody tr th {\n",
       "        vertical-align: top;\n",
       "    }\n",
       "\n",
       "    .dataframe thead th {\n",
       "        text-align: right;\n",
       "    }\n",
       "</style>\n",
       "<table border=\"1\" class=\"dataframe\">\n",
       "  <thead>\n",
       "    <tr style=\"text-align: right;\">\n",
       "      <th></th>\n",
       "      <th>appearedTimeOfDay</th>\n",
       "      <th>appearedHour</th>\n",
       "      <th>appearedMinute</th>\n",
       "      <th>terrainType</th>\n",
       "      <th>closeToWater</th>\n",
       "      <th>city</th>\n",
       "      <th>continent</th>\n",
       "      <th>weather</th>\n",
       "      <th>temperature</th>\n",
       "      <th>windSpeed</th>\n",
       "      <th>...</th>\n",
       "      <th>cooc_142</th>\n",
       "      <th>cooc_143</th>\n",
       "      <th>cooc_144</th>\n",
       "      <th>cooc_145</th>\n",
       "      <th>cooc_146</th>\n",
       "      <th>cooc_147</th>\n",
       "      <th>cooc_148</th>\n",
       "      <th>cooc_149</th>\n",
       "      <th>cooc_150</th>\n",
       "      <th>cooc_151</th>\n",
       "    </tr>\n",
       "  </thead>\n",
       "  <tbody>\n",
       "    <tr>\n",
       "      <th>0</th>\n",
       "      <td>evening</td>\n",
       "      <td>19</td>\n",
       "      <td>10</td>\n",
       "      <td>13</td>\n",
       "      <td>False</td>\n",
       "      <td>Bangkok</td>\n",
       "      <td>Asia</td>\n",
       "      <td>Clear</td>\n",
       "      <td>27.8</td>\n",
       "      <td>9.00</td>\n",
       "      <td>...</td>\n",
       "      <td>False</td>\n",
       "      <td>False</td>\n",
       "      <td>False</td>\n",
       "      <td>False</td>\n",
       "      <td>False</td>\n",
       "      <td>False</td>\n",
       "      <td>False</td>\n",
       "      <td>False</td>\n",
       "      <td>False</td>\n",
       "      <td>False</td>\n",
       "    </tr>\n",
       "    <tr>\n",
       "      <th>1</th>\n",
       "      <td>night</td>\n",
       "      <td>5</td>\n",
       "      <td>19</td>\n",
       "      <td>13</td>\n",
       "      <td>True</td>\n",
       "      <td>New_York</td>\n",
       "      <td>America</td>\n",
       "      <td>Clear</td>\n",
       "      <td>26.1</td>\n",
       "      <td>8.70</td>\n",
       "      <td>...</td>\n",
       "      <td>False</td>\n",
       "      <td>False</td>\n",
       "      <td>False</td>\n",
       "      <td>False</td>\n",
       "      <td>False</td>\n",
       "      <td>False</td>\n",
       "      <td>False</td>\n",
       "      <td>False</td>\n",
       "      <td>False</td>\n",
       "      <td>False</td>\n",
       "    </tr>\n",
       "    <tr>\n",
       "      <th>2</th>\n",
       "      <td>evening</td>\n",
       "      <td>19</td>\n",
       "      <td>46</td>\n",
       "      <td>0</td>\n",
       "      <td>True</td>\n",
       "      <td>New_York</td>\n",
       "      <td>America</td>\n",
       "      <td>Clear</td>\n",
       "      <td>24.7</td>\n",
       "      <td>16.82</td>\n",
       "      <td>...</td>\n",
       "      <td>False</td>\n",
       "      <td>False</td>\n",
       "      <td>False</td>\n",
       "      <td>False</td>\n",
       "      <td>False</td>\n",
       "      <td>False</td>\n",
       "      <td>False</td>\n",
       "      <td>False</td>\n",
       "      <td>False</td>\n",
       "      <td>False</td>\n",
       "    </tr>\n",
       "    <tr>\n",
       "      <th>3</th>\n",
       "      <td>morning</td>\n",
       "      <td>11</td>\n",
       "      <td>10</td>\n",
       "      <td>0</td>\n",
       "      <td>True</td>\n",
       "      <td>Hobart</td>\n",
       "      <td>Australia</td>\n",
       "      <td>Clear</td>\n",
       "      <td>12.7</td>\n",
       "      <td>13.25</td>\n",
       "      <td>...</td>\n",
       "      <td>False</td>\n",
       "      <td>False</td>\n",
       "      <td>False</td>\n",
       "      <td>False</td>\n",
       "      <td>False</td>\n",
       "      <td>False</td>\n",
       "      <td>False</td>\n",
       "      <td>False</td>\n",
       "      <td>False</td>\n",
       "      <td>False</td>\n",
       "    </tr>\n",
       "    <tr>\n",
       "      <th>4</th>\n",
       "      <td>evening</td>\n",
       "      <td>18</td>\n",
       "      <td>32</td>\n",
       "      <td>13</td>\n",
       "      <td>True</td>\n",
       "      <td>Los_Angeles</td>\n",
       "      <td>America</td>\n",
       "      <td>PartlyCloudy</td>\n",
       "      <td>19.1</td>\n",
       "      <td>5.78</td>\n",
       "      <td>...</td>\n",
       "      <td>False</td>\n",
       "      <td>False</td>\n",
       "      <td>False</td>\n",
       "      <td>False</td>\n",
       "      <td>False</td>\n",
       "      <td>False</td>\n",
       "      <td>False</td>\n",
       "      <td>False</td>\n",
       "      <td>False</td>\n",
       "      <td>False</td>\n",
       "    </tr>\n",
       "  </tbody>\n",
       "</table>\n",
       "<p>5 rows × 182 columns</p>\n",
       "</div>"
      ],
      "text/plain": [
       "  appearedTimeOfDay  appearedHour  appearedMinute  terrainType  closeToWater  \\\n",
       "0           evening            19              10           13         False   \n",
       "1             night             5              19           13          True   \n",
       "2           evening            19              46            0          True   \n",
       "3           morning            11              10            0          True   \n",
       "4           evening            18              32           13          True   \n",
       "\n",
       "          city  continent       weather  temperature  windSpeed    ...     \\\n",
       "0      Bangkok       Asia         Clear         27.8       9.00    ...      \n",
       "1     New_York    America         Clear         26.1       8.70    ...      \n",
       "2     New_York    America         Clear         24.7      16.82    ...      \n",
       "3       Hobart  Australia         Clear         12.7      13.25    ...      \n",
       "4  Los_Angeles    America  PartlyCloudy         19.1       5.78    ...      \n",
       "\n",
       "   cooc_142 cooc_143  cooc_144  cooc_145  cooc_146  cooc_147  cooc_148  \\\n",
       "0     False    False     False     False     False     False     False   \n",
       "1     False    False     False     False     False     False     False   \n",
       "2     False    False     False     False     False     False     False   \n",
       "3     False    False     False     False     False     False     False   \n",
       "4     False    False     False     False     False     False     False   \n",
       "\n",
       "   cooc_149  cooc_150  cooc_151  \n",
       "0     False     False     False  \n",
       "1     False     False     False  \n",
       "2     False     False     False  \n",
       "3     False     False     False  \n",
       "4     False     False     False  \n",
       "\n",
       "[5 rows x 182 columns]"
      ]
     },
     "execution_count": 88,
     "metadata": {},
     "output_type": "execute_result"
    }
   ],
   "source": [
    "data.head()"
   ]
  },
  {
   "cell_type": "code",
   "execution_count": 89,
   "metadata": {},
   "outputs": [
    {
     "data": {
      "text/html": [
       "<div>\n",
       "<style scoped>\n",
       "    .dataframe tbody tr th:only-of-type {\n",
       "        vertical-align: middle;\n",
       "    }\n",
       "\n",
       "    .dataframe tbody tr th {\n",
       "        vertical-align: top;\n",
       "    }\n",
       "\n",
       "    .dataframe thead th {\n",
       "        text-align: right;\n",
       "    }\n",
       "</style>\n",
       "<table border=\"1\" class=\"dataframe\">\n",
       "  <thead>\n",
       "    <tr style=\"text-align: right;\">\n",
       "      <th></th>\n",
       "      <th>appearedHour</th>\n",
       "      <th>appearedMinute</th>\n",
       "      <th>terrainType</th>\n",
       "      <th>temperature</th>\n",
       "      <th>windSpeed</th>\n",
       "      <th>pressure</th>\n",
       "      <th>population_density</th>\n",
       "      <th>gymDistanceKm</th>\n",
       "      <th>pokestopDistanceKm</th>\n",
       "    </tr>\n",
       "  </thead>\n",
       "  <tbody>\n",
       "    <tr>\n",
       "      <th>count</th>\n",
       "      <td>8951.000000</td>\n",
       "      <td>8951.000000</td>\n",
       "      <td>8951.000000</td>\n",
       "      <td>8951.000000</td>\n",
       "      <td>8951.000000</td>\n",
       "      <td>8951.000000</td>\n",
       "      <td>8951.000000</td>\n",
       "      <td>8951.000000</td>\n",
       "      <td>8951.000000</td>\n",
       "    </tr>\n",
       "    <tr>\n",
       "      <th>mean</th>\n",
       "      <td>10.654452</td>\n",
       "      <td>30.643168</td>\n",
       "      <td>9.720590</td>\n",
       "      <td>23.281008</td>\n",
       "      <td>7.510169</td>\n",
       "      <td>1014.904328</td>\n",
       "      <td>1541.905140</td>\n",
       "      <td>2.987937</td>\n",
       "      <td>0.562947</td>\n",
       "    </tr>\n",
       "    <tr>\n",
       "      <th>std</th>\n",
       "      <td>7.152858</td>\n",
       "      <td>17.439499</td>\n",
       "      <td>4.941831</td>\n",
       "      <td>6.054764</td>\n",
       "      <td>4.617323</td>\n",
       "      <td>5.828866</td>\n",
       "      <td>2230.860698</td>\n",
       "      <td>46.908371</td>\n",
       "      <td>7.479374</td>\n",
       "    </tr>\n",
       "    <tr>\n",
       "      <th>min</th>\n",
       "      <td>0.000000</td>\n",
       "      <td>0.000000</td>\n",
       "      <td>0.000000</td>\n",
       "      <td>4.800000</td>\n",
       "      <td>0.000000</td>\n",
       "      <td>996.330000</td>\n",
       "      <td>0.000000</td>\n",
       "      <td>0.004516</td>\n",
       "      <td>0.000319</td>\n",
       "    </tr>\n",
       "    <tr>\n",
       "      <th>25%</th>\n",
       "      <td>4.000000</td>\n",
       "      <td>16.000000</td>\n",
       "      <td>7.000000</td>\n",
       "      <td>18.500000</td>\n",
       "      <td>3.920000</td>\n",
       "      <td>1010.695000</td>\n",
       "      <td>69.585650</td>\n",
       "      <td>0.178437</td>\n",
       "      <td>0.050817</td>\n",
       "    </tr>\n",
       "    <tr>\n",
       "      <th>50%</th>\n",
       "      <td>10.000000</td>\n",
       "      <td>32.000000</td>\n",
       "      <td>13.000000</td>\n",
       "      <td>23.800000</td>\n",
       "      <td>6.630000</td>\n",
       "      <td>1015.290000</td>\n",
       "      <td>635.549800</td>\n",
       "      <td>0.314365</td>\n",
       "      <td>0.132209</td>\n",
       "    </tr>\n",
       "    <tr>\n",
       "      <th>75%</th>\n",
       "      <td>17.000000</td>\n",
       "      <td>46.000000</td>\n",
       "      <td>13.000000</td>\n",
       "      <td>27.500000</td>\n",
       "      <td>10.010000</td>\n",
       "      <td>1019.290000</td>\n",
       "      <td>1955.863600</td>\n",
       "      <td>0.577406</td>\n",
       "      <td>0.310317</td>\n",
       "    </tr>\n",
       "    <tr>\n",
       "      <th>max</th>\n",
       "      <td>23.000000</td>\n",
       "      <td>59.000000</td>\n",
       "      <td>16.000000</td>\n",
       "      <td>41.200000</td>\n",
       "      <td>56.130000</td>\n",
       "      <td>1034.170000</td>\n",
       "      <td>10000.000000</td>\n",
       "      <td>3859.424664</td>\n",
       "      <td>455.313099</td>\n",
       "    </tr>\n",
       "  </tbody>\n",
       "</table>\n",
       "</div>"
      ],
      "text/plain": [
       "       appearedHour  appearedMinute  terrainType  temperature    windSpeed  \\\n",
       "count   8951.000000     8951.000000  8951.000000  8951.000000  8951.000000   \n",
       "mean      10.654452       30.643168     9.720590    23.281008     7.510169   \n",
       "std        7.152858       17.439499     4.941831     6.054764     4.617323   \n",
       "min        0.000000        0.000000     0.000000     4.800000     0.000000   \n",
       "25%        4.000000       16.000000     7.000000    18.500000     3.920000   \n",
       "50%       10.000000       32.000000    13.000000    23.800000     6.630000   \n",
       "75%       17.000000       46.000000    13.000000    27.500000    10.010000   \n",
       "max       23.000000       59.000000    16.000000    41.200000    56.130000   \n",
       "\n",
       "          pressure  population_density  gymDistanceKm  pokestopDistanceKm  \n",
       "count  8951.000000         8951.000000    8951.000000         8951.000000  \n",
       "mean   1014.904328         1541.905140       2.987937            0.562947  \n",
       "std       5.828866         2230.860698      46.908371            7.479374  \n",
       "min     996.330000            0.000000       0.004516            0.000319  \n",
       "25%    1010.695000           69.585650       0.178437            0.050817  \n",
       "50%    1015.290000          635.549800       0.314365            0.132209  \n",
       "75%    1019.290000         1955.863600       0.577406            0.310317  \n",
       "max    1034.170000        10000.000000    3859.424664          455.313099  "
      ]
     },
     "execution_count": 89,
     "metadata": {},
     "output_type": "execute_result"
    }
   ],
   "source": [
    "data.describe()"
   ]
  },
  {
   "cell_type": "markdown",
   "metadata": {},
   "source": [
    "## 處理時間欄位"
   ]
  },
  {
   "cell_type": "code",
   "execution_count": 90,
   "metadata": {},
   "outputs": [
    {
     "data": {
      "text/plain": [
       "0    19.166667\n",
       "1     5.316667\n",
       "2    19.766667\n",
       "3    11.166667\n",
       "4    18.533333\n",
       "Name: appearedtime, dtype: float64"
      ]
     },
     "execution_count": 90,
     "metadata": {},
     "output_type": "execute_result"
    }
   ],
   "source": [
    "data['appearedtime'] = data['appearedHour']+(data['appearedMinute']/60)\n",
    "#maxtime=data['appearedtime'].max()\n",
    "maxtime=24\n",
    "data['appearedtime'].head()"
   ]
  },
  {
   "cell_type": "code",
   "execution_count": 91,
   "metadata": {},
   "outputs": [],
   "source": [
    "data['appearedtime_sin'] = np.sin(2 * np.pi * data['appearedtime']/maxtime)\n",
    "data['appearedtime_cos'] = np.cos(2 * np.pi * data['appearedtime']/maxtime)"
   ]
  },
  {
   "cell_type": "code",
   "execution_count": 92,
   "metadata": {},
   "outputs": [
    {
     "data": {
      "image/png": "[encoded data removed]",
      "text/plain": [
       "<Figure size 432x288 with 1 Axes>"
      ]
     },
     "metadata": {
      "needs_background": "light"
     },
     "output_type": "display_data"
    }
   ],
   "source": [
    "ax = data.plot.scatter('appearedtime_sin', 'appearedtime_cos').set_aspect('equal')"
   ]
  },
  {
   "cell_type": "markdown",
   "metadata": {},
   "source": [
    "## 刪除不需要的features"
   ]
  },
  {
   "cell_type": "code",
   "execution_count": 93,
   "metadata": {},
   "outputs": [],
   "source": [
    "# city已經可以區分地區,所以不需要continent\n",
    "data = data.drop(['continent'], axis=1)\n",
    "#與weather類似，所以移除weatherIcon\n",
    "data = data.drop(['weatherIcon'], axis=1)\n",
    "#data = data.drop(['weather'], axis=1)\n",
    "data = data.drop(['appearedHour', 'appearedMinute','appearedtime'], axis=1)\n",
    "# 時間欄位與appearedTimeOfDay效果相似,保留appearedTimeOfDay\n",
    "#data = data.drop(['appearedTimeOfDay'], axis=1)\n",
    "data = data.drop(['appearedtime_sin', 'appearedtime_cos'], axis=1)\n"
   ]
  },
  {
   "cell_type": "markdown",
   "metadata": {},
   "source": [
    "## 顯示數值欄位基本資訊"
   ]
  },
  {
   "cell_type": "code",
   "execution_count": 94,
   "metadata": {},
   "outputs": [
    {
     "data": {
      "text/html": [
       "<div>\n",
       "<style scoped>\n",
       "    .dataframe tbody tr th:only-of-type {\n",
       "        vertical-align: middle;\n",
       "    }\n",
       "\n",
       "    .dataframe tbody tr th {\n",
       "        vertical-align: top;\n",
       "    }\n",
       "\n",
       "    .dataframe thead th {\n",
       "        text-align: right;\n",
       "    }\n",
       "</style>\n",
       "<table border=\"1\" class=\"dataframe\">\n",
       "  <thead>\n",
       "    <tr style=\"text-align: right;\">\n",
       "      <th></th>\n",
       "      <th>terrainType</th>\n",
       "      <th>temperature</th>\n",
       "      <th>windSpeed</th>\n",
       "      <th>pressure</th>\n",
       "      <th>population_density</th>\n",
       "      <th>gymDistanceKm</th>\n",
       "      <th>pokestopDistanceKm</th>\n",
       "    </tr>\n",
       "  </thead>\n",
       "  <tbody>\n",
       "    <tr>\n",
       "      <th>count</th>\n",
       "      <td>8951.000000</td>\n",
       "      <td>8951.000000</td>\n",
       "      <td>8951.000000</td>\n",
       "      <td>8951.000000</td>\n",
       "      <td>8951.000000</td>\n",
       "      <td>8951.000000</td>\n",
       "      <td>8951.000000</td>\n",
       "    </tr>\n",
       "    <tr>\n",
       "      <th>mean</th>\n",
       "      <td>9.720590</td>\n",
       "      <td>23.281008</td>\n",
       "      <td>7.510169</td>\n",
       "      <td>1014.904328</td>\n",
       "      <td>1541.905140</td>\n",
       "      <td>2.987937</td>\n",
       "      <td>0.562947</td>\n",
       "    </tr>\n",
       "    <tr>\n",
       "      <th>std</th>\n",
       "      <td>4.941831</td>\n",
       "      <td>6.054764</td>\n",
       "      <td>4.617323</td>\n",
       "      <td>5.828866</td>\n",
       "      <td>2230.860698</td>\n",
       "      <td>46.908371</td>\n",
       "      <td>7.479374</td>\n",
       "    </tr>\n",
       "    <tr>\n",
       "      <th>min</th>\n",
       "      <td>0.000000</td>\n",
       "      <td>4.800000</td>\n",
       "      <td>0.000000</td>\n",
       "      <td>996.330000</td>\n",
       "      <td>0.000000</td>\n",
       "      <td>0.004516</td>\n",
       "      <td>0.000319</td>\n",
       "    </tr>\n",
       "    <tr>\n",
       "      <th>25%</th>\n",
       "      <td>7.000000</td>\n",
       "      <td>18.500000</td>\n",
       "      <td>3.920000</td>\n",
       "      <td>1010.695000</td>\n",
       "      <td>69.585650</td>\n",
       "      <td>0.178437</td>\n",
       "      <td>0.050817</td>\n",
       "    </tr>\n",
       "    <tr>\n",
       "      <th>50%</th>\n",
       "      <td>13.000000</td>\n",
       "      <td>23.800000</td>\n",
       "      <td>6.630000</td>\n",
       "      <td>1015.290000</td>\n",
       "      <td>635.549800</td>\n",
       "      <td>0.314365</td>\n",
       "      <td>0.132209</td>\n",
       "    </tr>\n",
       "    <tr>\n",
       "      <th>75%</th>\n",
       "      <td>13.000000</td>\n",
       "      <td>27.500000</td>\n",
       "      <td>10.010000</td>\n",
       "      <td>1019.290000</td>\n",
       "      <td>1955.863600</td>\n",
       "      <td>0.577406</td>\n",
       "      <td>0.310317</td>\n",
       "    </tr>\n",
       "    <tr>\n",
       "      <th>max</th>\n",
       "      <td>16.000000</td>\n",
       "      <td>41.200000</td>\n",
       "      <td>56.130000</td>\n",
       "      <td>1034.170000</td>\n",
       "      <td>10000.000000</td>\n",
       "      <td>3859.424664</td>\n",
       "      <td>455.313099</td>\n",
       "    </tr>\n",
       "  </tbody>\n",
       "</table>\n",
       "</div>"
      ],
      "text/plain": [
       "       terrainType  temperature    windSpeed     pressure  population_density  \\\n",
       "count  8951.000000  8951.000000  8951.000000  8951.000000         8951.000000   \n",
       "mean      9.720590    23.281008     7.510169  1014.904328         1541.905140   \n",
       "std       4.941831     6.054764     4.617323     5.828866         2230.860698   \n",
       "min       0.000000     4.800000     0.000000   996.330000            0.000000   \n",
       "25%       7.000000    18.500000     3.920000  1010.695000           69.585650   \n",
       "50%      13.000000    23.800000     6.630000  1015.290000          635.549800   \n",
       "75%      13.000000    27.500000    10.010000  1019.290000         1955.863600   \n",
       "max      16.000000    41.200000    56.130000  1034.170000        10000.000000   \n",
       "\n",
       "       gymDistanceKm  pokestopDistanceKm  \n",
       "count    8951.000000         8951.000000  \n",
       "mean        2.987937            0.562947  \n",
       "std        46.908371            7.479374  \n",
       "min         0.004516            0.000319  \n",
       "25%         0.178437            0.050817  \n",
       "50%         0.314365            0.132209  \n",
       "75%         0.577406            0.310317  \n",
       "max      3859.424664          455.313099  "
      ]
     },
     "execution_count": 94,
     "metadata": {},
     "output_type": "execute_result"
    }
   ],
   "source": [
    "data.describe()"
   ]
  },
  {
   "cell_type": "markdown",
   "metadata": {},
   "source": [
    "## 判斷是否有missing data"
   ]
  },
  {
   "cell_type": "code",
   "execution_count": 95,
   "metadata": {},
   "outputs": [
    {
     "data": {
      "text/plain": [
       "Series([], dtype: int64)"
      ]
     },
     "execution_count": 95,
     "metadata": {},
     "output_type": "execute_result"
    }
   ],
   "source": [
    "# Missing data in train\n",
    "data_na = data.isnull().sum()\n",
    "data_na = data_na[data_na>0]\n",
    "data_na.sort_values(ascending=False)"
   ]
  },
  {
   "cell_type": "markdown",
   "metadata": {},
   "source": [
    "## 查看min為0的筆數是否異常"
   ]
  },
  {
   "cell_type": "code",
   "execution_count": 96,
   "metadata": {},
   "outputs": [
    {
     "name": "stdout",
     "output_type": "stream",
     "text": [
      "1652\n"
     ]
    },
    {
     "data": {
      "text/plain": [
       "0.18456038431460173"
      ]
     },
     "execution_count": 96,
     "metadata": {},
     "output_type": "execute_result"
    }
   ],
   "source": [
    "print (data.loc[(data['population_density']==0),'population_density'].count())\n",
    "data.loc[(data['population_density']==0),'population_density'].count()/data.shape[0]"
   ]
  },
  {
   "cell_type": "markdown",
   "metadata": {},
   "source": [
    "## 將數值為不應該為0的值改用平均值"
   ]
  },
  {
   "cell_type": "code",
   "execution_count": 97,
   "metadata": {},
   "outputs": [],
   "source": [
    "# 使用該city的population_density平均值取代0值\n",
    "for i in data['city'].unique():\n",
    "    mean=data[data['city']==i].loc[:,'population_density'].mean()\n",
    "    data.loc[(data['city']==i) & (data['population_density']==0),'population_density']=mean"
   ]
  },
  {
   "cell_type": "code",
   "execution_count": 98,
   "metadata": {},
   "outputs": [
    {
     "data": {
      "text/html": [
       "<div>\n",
       "<style scoped>\n",
       "    .dataframe tbody tr th:only-of-type {\n",
       "        vertical-align: middle;\n",
       "    }\n",
       "\n",
       "    .dataframe tbody tr th {\n",
       "        vertical-align: top;\n",
       "    }\n",
       "\n",
       "    .dataframe thead th {\n",
       "        text-align: right;\n",
       "    }\n",
       "</style>\n",
       "<table border=\"1\" class=\"dataframe\">\n",
       "  <thead>\n",
       "    <tr style=\"text-align: right;\">\n",
       "      <th></th>\n",
       "      <th>appearedTimeOfDay</th>\n",
       "      <th>terrainType</th>\n",
       "      <th>closeToWater</th>\n",
       "      <th>city</th>\n",
       "      <th>weather</th>\n",
       "      <th>temperature</th>\n",
       "      <th>windSpeed</th>\n",
       "      <th>pressure</th>\n",
       "      <th>population_density</th>\n",
       "      <th>urban</th>\n",
       "      <th>...</th>\n",
       "      <th>cooc_142</th>\n",
       "      <th>cooc_143</th>\n",
       "      <th>cooc_144</th>\n",
       "      <th>cooc_145</th>\n",
       "      <th>cooc_146</th>\n",
       "      <th>cooc_147</th>\n",
       "      <th>cooc_148</th>\n",
       "      <th>cooc_149</th>\n",
       "      <th>cooc_150</th>\n",
       "      <th>cooc_151</th>\n",
       "    </tr>\n",
       "  </thead>\n",
       "  <tbody>\n",
       "    <tr>\n",
       "      <th>0</th>\n",
       "      <td>evening</td>\n",
       "      <td>13</td>\n",
       "      <td>False</td>\n",
       "      <td>Bangkok</td>\n",
       "      <td>Clear</td>\n",
       "      <td>27.8</td>\n",
       "      <td>9.00</td>\n",
       "      <td>1008.96</td>\n",
       "      <td>6019.04440</td>\n",
       "      <td>True</td>\n",
       "      <td>...</td>\n",
       "      <td>False</td>\n",
       "      <td>False</td>\n",
       "      <td>False</td>\n",
       "      <td>False</td>\n",
       "      <td>False</td>\n",
       "      <td>False</td>\n",
       "      <td>False</td>\n",
       "      <td>False</td>\n",
       "      <td>False</td>\n",
       "      <td>False</td>\n",
       "    </tr>\n",
       "    <tr>\n",
       "      <th>1</th>\n",
       "      <td>night</td>\n",
       "      <td>13</td>\n",
       "      <td>True</td>\n",
       "      <td>New_York</td>\n",
       "      <td>Clear</td>\n",
       "      <td>26.1</td>\n",
       "      <td>8.70</td>\n",
       "      <td>1018.96</td>\n",
       "      <td>1172.14576</td>\n",
       "      <td>False</td>\n",
       "      <td>...</td>\n",
       "      <td>False</td>\n",
       "      <td>False</td>\n",
       "      <td>False</td>\n",
       "      <td>False</td>\n",
       "      <td>False</td>\n",
       "      <td>False</td>\n",
       "      <td>False</td>\n",
       "      <td>False</td>\n",
       "      <td>False</td>\n",
       "      <td>False</td>\n",
       "    </tr>\n",
       "    <tr>\n",
       "      <th>2</th>\n",
       "      <td>evening</td>\n",
       "      <td>0</td>\n",
       "      <td>True</td>\n",
       "      <td>New_York</td>\n",
       "      <td>Clear</td>\n",
       "      <td>24.7</td>\n",
       "      <td>16.82</td>\n",
       "      <td>1023.22</td>\n",
       "      <td>1172.14576</td>\n",
       "      <td>False</td>\n",
       "      <td>...</td>\n",
       "      <td>False</td>\n",
       "      <td>False</td>\n",
       "      <td>False</td>\n",
       "      <td>False</td>\n",
       "      <td>False</td>\n",
       "      <td>False</td>\n",
       "      <td>False</td>\n",
       "      <td>False</td>\n",
       "      <td>False</td>\n",
       "      <td>False</td>\n",
       "    </tr>\n",
       "    <tr>\n",
       "      <th>3</th>\n",
       "      <td>morning</td>\n",
       "      <td>0</td>\n",
       "      <td>True</td>\n",
       "      <td>Hobart</td>\n",
       "      <td>Clear</td>\n",
       "      <td>12.7</td>\n",
       "      <td>13.25</td>\n",
       "      <td>1014.19</td>\n",
       "      <td>128.89505</td>\n",
       "      <td>False</td>\n",
       "      <td>...</td>\n",
       "      <td>False</td>\n",
       "      <td>False</td>\n",
       "      <td>False</td>\n",
       "      <td>False</td>\n",
       "      <td>False</td>\n",
       "      <td>False</td>\n",
       "      <td>False</td>\n",
       "      <td>False</td>\n",
       "      <td>False</td>\n",
       "      <td>False</td>\n",
       "    </tr>\n",
       "    <tr>\n",
       "      <th>4</th>\n",
       "      <td>evening</td>\n",
       "      <td>13</td>\n",
       "      <td>True</td>\n",
       "      <td>Los_Angeles</td>\n",
       "      <td>PartlyCloudy</td>\n",
       "      <td>19.1</td>\n",
       "      <td>5.78</td>\n",
       "      <td>1011.36</td>\n",
       "      <td>4188.39100</td>\n",
       "      <td>True</td>\n",
       "      <td>...</td>\n",
       "      <td>False</td>\n",
       "      <td>False</td>\n",
       "      <td>False</td>\n",
       "      <td>False</td>\n",
       "      <td>False</td>\n",
       "      <td>False</td>\n",
       "      <td>False</td>\n",
       "      <td>False</td>\n",
       "      <td>False</td>\n",
       "      <td>False</td>\n",
       "    </tr>\n",
       "  </tbody>\n",
       "</table>\n",
       "<p>5 rows × 178 columns</p>\n",
       "</div>"
      ],
      "text/plain": [
       "  appearedTimeOfDay  terrainType  closeToWater         city       weather  \\\n",
       "0           evening           13         False      Bangkok         Clear   \n",
       "1             night           13          True     New_York         Clear   \n",
       "2           evening            0          True     New_York         Clear   \n",
       "3           morning            0          True       Hobart         Clear   \n",
       "4           evening           13          True  Los_Angeles  PartlyCloudy   \n",
       "\n",
       "   temperature  windSpeed  pressure  population_density  urban    ...     \\\n",
       "0         27.8       9.00   1008.96          6019.04440   True    ...      \n",
       "1         26.1       8.70   1018.96          1172.14576  False    ...      \n",
       "2         24.7      16.82   1023.22          1172.14576  False    ...      \n",
       "3         12.7      13.25   1014.19           128.89505  False    ...      \n",
       "4         19.1       5.78   1011.36          4188.39100   True    ...      \n",
       "\n",
       "   cooc_142  cooc_143  cooc_144  cooc_145  cooc_146  cooc_147  cooc_148  \\\n",
       "0     False     False     False     False     False     False     False   \n",
       "1     False     False     False     False     False     False     False   \n",
       "2     False     False     False     False     False     False     False   \n",
       "3     False     False     False     False     False     False     False   \n",
       "4     False     False     False     False     False     False     False   \n",
       "\n",
       "   cooc_149  cooc_150  cooc_151  \n",
       "0     False     False     False  \n",
       "1     False     False     False  \n",
       "2     False     False     False  \n",
       "3     False     False     False  \n",
       "4     False     False     False  \n",
       "\n",
       "[5 rows x 178 columns]"
      ]
     },
     "execution_count": 98,
     "metadata": {},
     "output_type": "execute_result"
    }
   ],
   "source": [
    "data.head()"
   ]
  },
  {
   "cell_type": "code",
   "execution_count": 99,
   "metadata": {},
   "outputs": [
    {
     "data": {
      "text/html": [
       "<div>\n",
       "<style scoped>\n",
       "    .dataframe tbody tr th:only-of-type {\n",
       "        vertical-align: middle;\n",
       "    }\n",
       "\n",
       "    .dataframe tbody tr th {\n",
       "        vertical-align: top;\n",
       "    }\n",
       "\n",
       "    .dataframe thead th {\n",
       "        text-align: right;\n",
       "    }\n",
       "</style>\n",
       "<table border=\"1\" class=\"dataframe\">\n",
       "  <thead>\n",
       "    <tr style=\"text-align: right;\">\n",
       "      <th></th>\n",
       "      <th>terrainType</th>\n",
       "      <th>temperature</th>\n",
       "      <th>windSpeed</th>\n",
       "      <th>pressure</th>\n",
       "      <th>population_density</th>\n",
       "      <th>gymDistanceKm</th>\n",
       "      <th>pokestopDistanceKm</th>\n",
       "    </tr>\n",
       "  </thead>\n",
       "  <tbody>\n",
       "    <tr>\n",
       "      <th>count</th>\n",
       "      <td>8951.000000</td>\n",
       "      <td>8951.000000</td>\n",
       "      <td>8951.000000</td>\n",
       "      <td>8951.000000</td>\n",
       "      <td>8951.000000</td>\n",
       "      <td>8951.000000</td>\n",
       "      <td>8951.000000</td>\n",
       "    </tr>\n",
       "    <tr>\n",
       "      <th>mean</th>\n",
       "      <td>9.720590</td>\n",
       "      <td>23.281008</td>\n",
       "      <td>7.510169</td>\n",
       "      <td>1014.904328</td>\n",
       "      <td>1786.441753</td>\n",
       "      <td>2.987937</td>\n",
       "      <td>0.562947</td>\n",
       "    </tr>\n",
       "    <tr>\n",
       "      <th>std</th>\n",
       "      <td>4.941831</td>\n",
       "      <td>6.054764</td>\n",
       "      <td>4.617323</td>\n",
       "      <td>5.828866</td>\n",
       "      <td>2143.401196</td>\n",
       "      <td>46.908371</td>\n",
       "      <td>7.479374</td>\n",
       "    </tr>\n",
       "    <tr>\n",
       "      <th>min</th>\n",
       "      <td>0.000000</td>\n",
       "      <td>4.800000</td>\n",
       "      <td>0.000000</td>\n",
       "      <td>996.330000</td>\n",
       "      <td>0.000000</td>\n",
       "      <td>0.004516</td>\n",
       "      <td>0.000319</td>\n",
       "    </tr>\n",
       "    <tr>\n",
       "      <th>25%</th>\n",
       "      <td>7.000000</td>\n",
       "      <td>18.500000</td>\n",
       "      <td>3.920000</td>\n",
       "      <td>1010.695000</td>\n",
       "      <td>458.582340</td>\n",
       "      <td>0.178437</td>\n",
       "      <td>0.050817</td>\n",
       "    </tr>\n",
       "    <tr>\n",
       "      <th>50%</th>\n",
       "      <td>13.000000</td>\n",
       "      <td>23.800000</td>\n",
       "      <td>6.630000</td>\n",
       "      <td>1015.290000</td>\n",
       "      <td>1135.319600</td>\n",
       "      <td>0.314365</td>\n",
       "      <td>0.132209</td>\n",
       "    </tr>\n",
       "    <tr>\n",
       "      <th>75%</th>\n",
       "      <td>13.000000</td>\n",
       "      <td>27.500000</td>\n",
       "      <td>10.010000</td>\n",
       "      <td>1019.290000</td>\n",
       "      <td>2261.157000</td>\n",
       "      <td>0.577406</td>\n",
       "      <td>0.310317</td>\n",
       "    </tr>\n",
       "    <tr>\n",
       "      <th>max</th>\n",
       "      <td>16.000000</td>\n",
       "      <td>41.200000</td>\n",
       "      <td>56.130000</td>\n",
       "      <td>1034.170000</td>\n",
       "      <td>10000.000000</td>\n",
       "      <td>3859.424664</td>\n",
       "      <td>455.313099</td>\n",
       "    </tr>\n",
       "  </tbody>\n",
       "</table>\n",
       "</div>"
      ],
      "text/plain": [
       "       terrainType  temperature    windSpeed     pressure  population_density  \\\n",
       "count  8951.000000  8951.000000  8951.000000  8951.000000         8951.000000   \n",
       "mean      9.720590    23.281008     7.510169  1014.904328         1786.441753   \n",
       "std       4.941831     6.054764     4.617323     5.828866         2143.401196   \n",
       "min       0.000000     4.800000     0.000000   996.330000            0.000000   \n",
       "25%       7.000000    18.500000     3.920000  1010.695000          458.582340   \n",
       "50%      13.000000    23.800000     6.630000  1015.290000         1135.319600   \n",
       "75%      13.000000    27.500000    10.010000  1019.290000         2261.157000   \n",
       "max      16.000000    41.200000    56.130000  1034.170000        10000.000000   \n",
       "\n",
       "       gymDistanceKm  pokestopDistanceKm  \n",
       "count    8951.000000         8951.000000  \n",
       "mean        2.987937            0.562947  \n",
       "std        46.908371            7.479374  \n",
       "min         0.004516            0.000319  \n",
       "25%         0.178437            0.050817  \n",
       "50%         0.314365            0.132209  \n",
       "75%         0.577406            0.310317  \n",
       "max      3859.424664          455.313099  "
      ]
     },
     "execution_count": 99,
     "metadata": {},
     "output_type": "execute_result"
    }
   ],
   "source": [
    "data.describe()"
   ]
  },
  {
   "cell_type": "markdown",
   "metadata": {},
   "source": [
    "## 將以數值做分類型態的feature的資料型態轉換成字串，避免訓練時被當作數值處理\n",
    "#### 例terrainType是以0,1,2..來表示不同種類的地形，但並非數值，所以要做轉換"
   ]
  },
  {
   "cell_type": "code",
   "execution_count": 100,
   "metadata": {},
   "outputs": [
    {
     "name": "stdout",
     "output_type": "stream",
     "text": [
      "<class 'pandas.core.frame.DataFrame'>\n",
      "Int64Index: 8951 entries, 0 to 1790\n",
      "Columns: 178 entries, appearedTimeOfDay to cooc_151\n",
      "dtypes: bool(168), float64(6), object(4)\n",
      "memory usage: 2.2+ MB\n"
     ]
    }
   ],
   "source": [
    "#data.terrainType = data.terrainType.astype( str )\n",
    "features_to_str=[\"terrainType\"]\n",
    "data[features_to_str]=data[features_to_str].astype(str)\n",
    "data.info()"
   ]
  },
  {
   "cell_type": "markdown",
   "metadata": {},
   "source": [
    "## 對數值欄位做 normalization"
   ]
  },
  {
   "cell_type": "code",
   "execution_count": 101,
   "metadata": {},
   "outputs": [
    {
     "name": "stdout",
     "output_type": "stream",
     "text": [
      "  appearedTimeOfDay terrainType  closeToWater         city       weather  \\\n",
      "0           evening          13     -0.901079      Bangkok         Clear   \n",
      "1             night          13      1.109781     New_York         Clear   \n",
      "2           evening           0      1.109781     New_York         Clear   \n",
      "3           morning           0      1.109781       Hobart         Clear   \n",
      "4           evening          13      1.109781  Los_Angeles  PartlyCloudy   \n",
      "\n",
      "   temperature  windSpeed  pressure  population_density     urban    ...     \\\n",
      "0     0.746395   0.322679 -1.019866            1.974824  1.133395    ...      \n",
      "1     0.465609   0.257703  0.695830           -0.286615 -0.882305    ...      \n",
      "2     0.234373   2.016396  1.426716           -0.286615 -0.882305    ...      \n",
      "3    -1.747648   1.243178 -0.122557           -0.773369 -0.882305    ...      \n",
      "4    -0.690571  -0.374733 -0.608099            1.120688  1.133395    ...      \n",
      "\n",
      "   cooc_142  cooc_143  cooc_144  cooc_145  cooc_146  cooc_147  cooc_148  \\\n",
      "0  -0.01057 -0.021144       0.0       0.0       0.0  -0.10302 -0.033443   \n",
      "1  -0.01057 -0.021144       0.0       0.0       0.0  -0.10302 -0.033443   \n",
      "2  -0.01057 -0.021144       0.0       0.0       0.0  -0.10302 -0.033443   \n",
      "3  -0.01057 -0.021144       0.0       0.0       0.0  -0.10302 -0.033443   \n",
      "4  -0.01057 -0.021144       0.0       0.0       0.0  -0.10302 -0.033443   \n",
      "\n",
      "   cooc_149  cooc_150  cooc_151  \n",
      "0 -0.021144       0.0       0.0  \n",
      "1 -0.021144       0.0       0.0  \n",
      "2 -0.021144       0.0       0.0  \n",
      "3 -0.021144       0.0       0.0  \n",
      "4 -0.021144       0.0       0.0  \n",
      "\n",
      "[5 rows x 178 columns]\n"
     ]
    }
   ],
   "source": [
    "from sklearn import preprocessing\n",
    "# 前面已經取過一次numerical_features,但因為中間features有增減，所以再取一次\n",
    "numerical_features = data.select_dtypes(exclude = [\"object\"]).columns\n",
    "data[numerical_features] = preprocessing.scale(data[numerical_features])\n",
    "print (data.head())"
   ]
  },
  {
   "cell_type": "markdown",
   "metadata": {},
   "source": [
    "## 對類別型features做one-hot-encoding\n",
    "#### 某一類別型feature有三個值，則會被轉換成三個features"
   ]
  },
  {
   "cell_type": "code",
   "execution_count": 102,
   "metadata": {},
   "outputs": [
    {
     "data": {
      "text/plain": [
       "(8951, 292)"
      ]
     },
     "execution_count": 102,
     "metadata": {},
     "output_type": "execute_result"
    }
   ],
   "source": [
    "data=pd.get_dummies(data)\n",
    "data.shape"
   ]
  },
  {
   "cell_type": "code",
   "execution_count": 103,
   "metadata": {},
   "outputs": [
    {
     "name": "stdout",
     "output_type": "stream",
     "text": [
      "292\n"
     ]
    }
   ],
   "source": [
    "feture_qty=data.shape[1]\n",
    "print (feture_qty)"
   ]
  },
  {
   "cell_type": "markdown",
   "metadata": {},
   "source": [
    "## 將整理後的資料再拆成train data和test data"
   ]
  },
  {
   "cell_type": "code",
   "execution_count": 104,
   "metadata": {},
   "outputs": [
    {
     "name": "stdout",
     "output_type": "stream",
     "text": [
      "(7160, 292)\n",
      "(1791, 292)\n"
     ]
    }
   ],
   "source": [
    "x_train=data[:x_train_qty]\n",
    "x_test=data[x_train_qty:]\n",
    "print (x_train.shape)\n",
    "print (x_test.shape)"
   ]
  },
  {
   "cell_type": "markdown",
   "metadata": {},
   "source": [
    "## 對train data y 做 one-hot-encoding"
   ]
  },
  {
   "cell_type": "code",
   "execution_count": 105,
   "metadata": {},
   "outputs": [
    {
     "name": "stdout",
     "output_type": "stream",
     "text": [
      "(7160, 6)\n"
     ]
    }
   ],
   "source": [
    "# one hot encoding\n",
    "\n",
    "y_one_hot = np.zeros((len(y_train), 6))  \n",
    "y_one_hot[np.arange(len(y_train)), y_train] = 1\n",
    "\n",
    "print (y_one_hot.shape)\n"
   ]
  },
  {
   "cell_type": "code",
   "execution_count": 106,
   "metadata": {},
   "outputs": [],
   "source": [
    "#print (y_one_hot[:].astype(int))"
   ]
  },
  {
   "cell_type": "code",
   "execution_count": 107,
   "metadata": {},
   "outputs": [],
   "source": [
    "import os\n",
    "eda_path = os.path.join(os.getcwd(), 'eda')\n",
    "if not os.path.isdir(eda_path):\n",
    "    os.makedirs(eda_path)\n",
    "train_data_eda_file=os.path.join(eda_path,  \"train_data_eda.csv\")\n",
    "train_label_eda_file=os.path.join(eda_path,  \"train_label_eda.csv\")\n",
    "test_data_eda_file=os.path.join(eda_path,  \"test_data_eda.csv\")"
   ]
  },
  {
   "cell_type": "code",
   "execution_count": 108,
   "metadata": {},
   "outputs": [],
   "source": [
    "#儲存結果\n",
    "train_data_eda = pd.DataFrame(x_train)\n",
    "train_data_eda.to_csv(train_data_eda_file, index=False)\n",
    "train_label_eda = pd.DataFrame(y_one_hot.astype(int))\n",
    "train_label_eda.to_csv(train_label_eda_file, index=False)\n",
    "#test_data_eda = pd.DataFrame(x_test)\n",
    "test_data_eda = pd.concat([x_test_id, x_test], axis=1) # 把id祖回去，後續predict時會用到\n",
    "test_data_eda.to_csv(test_data_eda_file, index=False)\n"
   ]
  },
  {
   "cell_type": "code",
   "execution_count": null,
   "metadata": {},
   "outputs": [],
   "source": []
  },
  {
   "cell_type": "code",
   "execution_count": null,
   "metadata": {},
   "outputs": [],
   "source": []
  },
  {
   "cell_type": "code",
   "execution_count": null,
   "metadata": {},
   "outputs": [],
   "source": []
  },
  {
   "cell_type": "code",
   "execution_count": null,
   "metadata": {},
   "outputs": [],
   "source": []
  }
 ],
 "metadata": {
  "kernelspec": {
   "display_name": "Python 3",
   "language": "python",
   "name": "python3"
  },
  "language_info": {
   "codemirror_mode": {
    "name": "ipython",
    "version": 3
   },
   "file_extension": ".py",
   "mimetype": "text/x-python",
   "name": "python",
   "nbconvert_exporter": "python",
   "pygments_lexer": "ipython3",
   "version": "3.7.0"
  }
 },
 "nbformat": 4,
 "nbformat_minor": 2
}
