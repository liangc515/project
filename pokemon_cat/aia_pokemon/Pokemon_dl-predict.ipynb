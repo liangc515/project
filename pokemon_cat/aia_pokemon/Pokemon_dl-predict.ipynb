{
 "cells": [
  {
   "cell_type": "code",
   "execution_count": 45,
   "metadata": {},
   "outputs": [],
   "source": [
    "import pandas as pd\n",
    "import matplotlib.pyplot as plt\n",
    "import numpy as np\n",
    "\n",
    "import seaborn as sns       \n",
    "from scipy import stats\n",
    "\n",
    "import warnings\n",
    "\n",
    "warnings.filterwarnings('ignore')\n",
    "%matplotlib inline  \n",
    "# 为了在jupyter notebook里作图，需要用到这个命令"
   ]
  },
  {
   "cell_type": "markdown",
   "metadata": {},
   "source": [
    "## 取訓練時最佳的結果來做test預測"
   ]
  },
  {
   "cell_type": "code",
   "execution_count": 46,
   "metadata": {},
   "outputs": [],
   "source": [
    "import os\n",
    "train_file_name = './model/info/train.txt'\n",
    "best_model_file_label=\"best_model_file_name\"\n",
    "best_model_path_name=\"\"\n",
    "with open(train_file_name, 'r') as f :\n",
    "    f_data=f.read()\n",
    "    best_model_file_label_pos=f_data.find(best_model_file_label)\n",
    "    f.seek(best_model_file_name_pos+len(best_model_file_label)+1)\n",
    "    best_model_path_name=f.readline()\n",
    "    best_model_path_name=best_model_path_name[0:(len(best_model_path_name)-1)] #去掉最後的換行符號\"\\n\"\n"
   ]
  },
  {
   "cell_type": "code",
   "execution_count": 47,
   "metadata": {},
   "outputs": [],
   "source": [
    "from keras.models import load_model\n",
    "# load model\n",
    "best_model = load_model(best_model_path_name)"
   ]
  },
  {
   "cell_type": "code",
   "execution_count": 48,
   "metadata": {},
   "outputs": [
    {
     "name": "stdout",
     "output_type": "stream",
     "text": [
      "x_test: (1791, 292)\n"
     ]
    }
   ],
   "source": [
    "test_data_eda_file=\"./eda/test_data_eda.csv\"\n",
    "x_test = pd.read_csv(test_data_eda_file)\n",
    "x_test_id=x_test[\"id\"]\n",
    "x_test.drop([\"id\"], axis = 1, inplace = True)\n",
    "print (\"x_test:\",x_test.shape)"
   ]
  },
  {
   "cell_type": "code",
   "execution_count": 49,
   "metadata": {},
   "outputs": [],
   "source": [
    "y_test_pred = best_model.predict_classes(x_test)"
   ]
  },
  {
   "cell_type": "code",
   "execution_count": 50,
   "metadata": {},
   "outputs": [
    {
     "data": {
      "text/html": [
       "<div>\n",
       "<style scoped>\n",
       "    .dataframe tbody tr th:only-of-type {\n",
       "        vertical-align: middle;\n",
       "    }\n",
       "\n",
       "    .dataframe tbody tr th {\n",
       "        vertical-align: top;\n",
       "    }\n",
       "\n",
       "    .dataframe thead th {\n",
       "        text-align: right;\n",
       "    }\n",
       "</style>\n",
       "<table border=\"1\" class=\"dataframe\">\n",
       "  <thead>\n",
       "    <tr style=\"text-align: right;\">\n",
       "      <th></th>\n",
       "      <th>id</th>\n",
       "      <th>class</th>\n",
       "    </tr>\n",
       "  </thead>\n",
       "  <tbody>\n",
       "    <tr>\n",
       "      <th>0</th>\n",
       "      <td>MTA5MTEwOTYxMzM0NzA2NDEzNzM=</td>\n",
       "      <td>2</td>\n",
       "    </tr>\n",
       "    <tr>\n",
       "      <th>1</th>\n",
       "      <td>MTY0OTUyMTM2MDExMjg3MjczMjU=</td>\n",
       "      <td>1</td>\n",
       "    </tr>\n",
       "    <tr>\n",
       "      <th>2</th>\n",
       "      <td>MTQ0ODU1OTEzOTU1NTAyNzI4NjE=</td>\n",
       "      <td>4</td>\n",
       "    </tr>\n",
       "    <tr>\n",
       "      <th>3</th>\n",
       "      <td>MTY1ODg1MzEwNzYzNDUzMDUwNTM=</td>\n",
       "      <td>3</td>\n",
       "    </tr>\n",
       "    <tr>\n",
       "      <th>4</th>\n",
       "      <td>MTY0NTg2OTA5MTkzOTE2MTc1MTc=</td>\n",
       "      <td>5</td>\n",
       "    </tr>\n",
       "  </tbody>\n",
       "</table>\n",
       "</div>"
      ],
      "text/plain": [
       "                             id  class\n",
       "0  MTA5MTEwOTYxMzM0NzA2NDEzNzM=      2\n",
       "1  MTY0OTUyMTM2MDExMjg3MjczMjU=      1\n",
       "2  MTQ0ODU1OTEzOTU1NTAyNzI4NjE=      4\n",
       "3  MTY1ODg1MzEwNzYzNDUzMDUwNTM=      3\n",
       "4  MTY0NTg2OTA5MTkzOTE2MTc1MTc=      5"
      ]
     },
     "execution_count": 50,
     "metadata": {},
     "output_type": "execute_result"
    }
   ],
   "source": [
    "## 將預測結果與ID做combine\n",
    "prediction = pd.DataFrame(y_test_pred, columns=['class'])\n",
    "result = pd.concat([x_test_id, prediction], axis=1)\n",
    "result.head()"
   ]
  },
  {
   "cell_type": "code",
   "execution_count": 51,
   "metadata": {},
   "outputs": [],
   "source": [
    "#儲存結果\n",
    "import os\n",
    "eda_path = os.path.join(os.getcwd(), 'predict')\n",
    "if not os.path.isdir(eda_path):\n",
    "    os.makedirs(eda_path)\n",
    "predict_file=os.path.join(eda_path,  'submission_dl.csv')\n",
    "result.to_csv(predict_file, index=False)"
   ]
  },
  {
   "cell_type": "code",
   "execution_count": null,
   "metadata": {},
   "outputs": [],
   "source": []
  }
 ],
 "metadata": {
  "kernelspec": {
   "display_name": "Python 3",
   "language": "python",
   "name": "python3"
  },
  "language_info": {
   "codemirror_mode": {
    "name": "ipython",
    "version": 3
   },
   "file_extension": ".py",
   "mimetype": "text/x-python",
   "name": "python",
   "nbconvert_exporter": "python",
   "pygments_lexer": "ipython3",
   "version": "3.7.0"
  }
 },
 "nbformat": 4,
 "nbformat_minor": 2
}
