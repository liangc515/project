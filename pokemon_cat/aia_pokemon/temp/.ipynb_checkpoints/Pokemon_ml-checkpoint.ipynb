{
 "cells": [
  {
   "cell_type": "code",
   "execution_count": 154,
   "metadata": {},
   "outputs": [],
   "source": [
    "import pandas as pd\n",
    "import matplotlib.pyplot as plt\n",
    "import numpy as np\n",
    "\n",
    "import seaborn as sns       \n",
    "from scipy import stats\n",
    "from sklearn.model_selection import train_test_split\n",
    "import warnings\n",
    "\n",
    "from sklearn.svm import SVC\n",
    "from xgboost import  XGBClassifier\n",
    "\n",
    "from sklearn.metrics import accuracy_score\n",
    "\n",
    "warnings.filterwarnings('ignore')\n",
    "%matplotlib inline  \n",
    "# 为了在jupyter notebook里作图，需要用到这个命令"
   ]
  },
  {
   "cell_type": "code",
   "execution_count": 155,
   "metadata": {},
   "outputs": [],
   "source": [
    "train = pd.read_csv(\"train.csv\")"
   ]
  },
  {
   "cell_type": "code",
   "execution_count": 156,
   "metadata": {},
   "outputs": [
    {
     "name": "stdout",
     "output_type": "stream",
     "text": [
      "(7160, 184)\n"
     ]
    }
   ],
   "source": [
    "print (train.shape)"
   ]
  },
  {
   "cell_type": "markdown",
   "metadata": {},
   "source": [
    "## 移除用不到的Column"
   ]
  },
  {
   "cell_type": "code",
   "execution_count": 157,
   "metadata": {},
   "outputs": [
    {
     "name": "stdout",
     "output_type": "stream",
     "text": [
      "(7160, 183)\n"
     ]
    }
   ],
   "source": [
    "train.drop(\"ID\", axis = 1, inplace = True)\n",
    "print (train.shape)"
   ]
  },
  {
   "cell_type": "markdown",
   "metadata": {},
   "source": [
    "## 檢查Features datatype"
   ]
  },
  {
   "cell_type": "code",
   "execution_count": 158,
   "metadata": {},
   "outputs": [
    {
     "name": "stdout",
     "output_type": "stream",
     "text": [
      "[dtype('O') dtype('int64') dtype('bool') dtype('float64')]\n",
      "5\n",
      "Index(['appearedTimeOfDay', 'city', 'continent', 'weather', 'weatherIcon'], dtype='object')\n",
      "4\n",
      "168\n",
      "6\n"
     ]
    }
   ],
   "source": [
    "print(train.dtypes.unique())\n",
    "print(len(train.select_dtypes(include=['O']).columns))\n",
    "print(train.select_dtypes(include=['O']).columns)\n",
    "print(len(train.select_dtypes(include=['int64']).columns))\n",
    "print(len(train.select_dtypes(include=['bool']).columns))\n",
    "print(len(train.select_dtypes(include=['float64']).columns))"
   ]
  },
  {
   "cell_type": "markdown",
   "metadata": {},
   "source": [
    "## 判斷是否有missing data"
   ]
  },
  {
   "cell_type": "code",
   "execution_count": 159,
   "metadata": {},
   "outputs": [
    {
     "data": {
      "text/plain": [
       "Series([], dtype: int64)"
      ]
     },
     "execution_count": 159,
     "metadata": {},
     "output_type": "execute_result"
    }
   ],
   "source": [
    "# Missing data in train\n",
    "train_na = train.isnull().sum()\n",
    "train_na = train_na[train_na>0]\n",
    "train_na.sort_values(ascending=False)"
   ]
  },
  {
   "cell_type": "markdown",
   "metadata": {},
   "source": [
    "## 判斷fetures是屬於categorical or numerical"
   ]
  },
  {
   "cell_type": "code",
   "execution_count": 160,
   "metadata": {},
   "outputs": [
    {
     "name": "stdout",
     "output_type": "stream",
     "text": [
      "Index(['appearedTimeOfDay', 'city', 'continent', 'weather', 'weatherIcon'], dtype='object')\n",
      "Index(['appearedHour', 'appearedMinute', 'terrainType', 'closeToWater',\n",
      "       'temperature', 'windSpeed', 'pressure', 'population_density', 'urban',\n",
      "       'suburban',\n",
      "       ...\n",
      "       'cooc_143', 'cooc_144', 'cooc_145', 'cooc_146', 'cooc_147', 'cooc_148',\n",
      "       'cooc_149', 'cooc_150', 'cooc_151', 'class'],\n",
      "      dtype='object', length=178)\n",
      "Numerical features : 178\n",
      "Categorical features : 5\n"
     ]
    }
   ],
   "source": [
    "# Differentiate numerical features (minus the target) and categorical features\n",
    "categorical_features = train.select_dtypes(include=['object']).columns\n",
    "print(categorical_features)\n",
    "numerical_features = train.select_dtypes(exclude = [\"object\"]).columns\n",
    "print(numerical_features)\n",
    "\n",
    "print(\"Numerical features : \" + str(len(numerical_features)))\n",
    "print(\"Categorical features : \" + str(len(categorical_features)))\n",
    "feat_num = train[numerical_features]\n",
    "feat_cat = train[categorical_features]"
   ]
  },
  {
   "cell_type": "code",
   "execution_count": 161,
   "metadata": {},
   "outputs": [
    {
     "name": "stdout",
     "output_type": "stream",
     "text": [
      "(5728, 177)\n",
      "(5728,)\n",
      "(1432, 177)\n",
      "(1432,)\n",
      "(1791, 182)\n"
     ]
    }
   ],
   "source": [
    "train=feat_num\n",
    "train, valid = train_test_split(train, test_size=0.2)\n",
    "\n",
    "y_train=train['class']\n",
    "x_train=train\n",
    "x_train.drop(\"class\", axis = 1, inplace = True)\n",
    "\n",
    "y_valid=valid['class']\n",
    "x_valid=valid\n",
    "x_valid.drop(\"class\", axis = 1, inplace = True)\n",
    "\n",
    "\n",
    "x_test=test\n",
    "print (x_train.shape)\n",
    "print (y_train.shape)\n",
    "print (x_valid.shape)\n",
    "print (y_valid.shape)\n",
    "print (x_test.shape)"
   ]
  },
  {
   "cell_type": "code",
   "execution_count": 162,
   "metadata": {},
   "outputs": [
    {
     "name": "stdout",
     "output_type": "stream",
     "text": [
      "[0 0 3 ... 3 2 2]\n"
     ]
    }
   ],
   "source": [
    "model_svc=SVC()\n",
    "model_svc.fit(x_train,y_train)\n",
    "y_valid_pred_svc=model_svc.predict(x_valid)\n",
    "\n",
    "print (y_valid_pred_svc)\n"
   ]
  },
  {
   "cell_type": "code",
   "execution_count": null,
   "metadata": {},
   "outputs": [],
   "source": [
    "print (\"svc:\" ,accuracy_score(y_valid, y_valid_pred_svc))"
   ]
  },
  {
   "cell_type": "code",
   "execution_count": 167,
   "metadata": {},
   "outputs": [
    {
     "name": "stdout",
     "output_type": "stream",
     "text": [
      "[0 3 3 ... 0 2 5]\n"
     ]
    }
   ],
   "source": [
    "model_xgboost = XGBClassifier(learning_rate=0.1)\n",
    "model_xgboost.fit(x_train,y_train)\n",
    "y_valid_pred_xgboost=model_xgboost.predict(x_valid)\n",
    "print (y_valid_pred_xgboost)"
   ]
  },
  {
   "cell_type": "code",
   "execution_count": 168,
   "metadata": {},
   "outputs": [
    {
     "name": "stdout",
     "output_type": "stream",
     "text": [
      "svc: 0.5027932960893855\n",
      "xgboost: 0.5551675977653632\n"
     ]
    }
   ],
   "source": [
    "print (\"xgboost:\" ,accuracy_score(y_valid, y_valid_pred_xgboost))"
   ]
  },
  {
   "cell_type": "code",
   "execution_count": 169,
   "metadata": {},
   "outputs": [
    {
     "data": {
      "text/html": [
       "<div>\n",
       "<style scoped>\n",
       "    .dataframe tbody tr th:only-of-type {\n",
       "        vertical-align: middle;\n",
       "    }\n",
       "\n",
       "    .dataframe tbody tr th {\n",
       "        vertical-align: top;\n",
       "    }\n",
       "\n",
       "    .dataframe thead th {\n",
       "        text-align: right;\n",
       "    }\n",
       "</style>\n",
       "<table border=\"1\" class=\"dataframe\">\n",
       "  <thead>\n",
       "    <tr style=\"text-align: right;\">\n",
       "      <th></th>\n",
       "      <th>id</th>\n",
       "      <th>appearedTimeOfDay</th>\n",
       "      <th>appearedHour</th>\n",
       "      <th>appearedMinute</th>\n",
       "      <th>terrainType</th>\n",
       "      <th>closeToWater</th>\n",
       "      <th>city</th>\n",
       "      <th>continent</th>\n",
       "      <th>weather</th>\n",
       "      <th>temperature</th>\n",
       "      <th>...</th>\n",
       "      <th>cooc_142</th>\n",
       "      <th>cooc_143</th>\n",
       "      <th>cooc_144</th>\n",
       "      <th>cooc_145</th>\n",
       "      <th>cooc_146</th>\n",
       "      <th>cooc_147</th>\n",
       "      <th>cooc_148</th>\n",
       "      <th>cooc_149</th>\n",
       "      <th>cooc_150</th>\n",
       "      <th>cooc_151</th>\n",
       "    </tr>\n",
       "  </thead>\n",
       "  <tbody>\n",
       "    <tr>\n",
       "      <th>0</th>\n",
       "      <td>MTA5MTEwOTYxMzM0NzA2NDEzNzM=</td>\n",
       "      <td>morning</td>\n",
       "      <td>8</td>\n",
       "      <td>26</td>\n",
       "      <td>13</td>\n",
       "      <td>False</td>\n",
       "      <td>Ljubljana</td>\n",
       "      <td>Europe</td>\n",
       "      <td>MostlyCloudy</td>\n",
       "      <td>16.8</td>\n",
       "      <td>...</td>\n",
       "      <td>False</td>\n",
       "      <td>False</td>\n",
       "      <td>False</td>\n",
       "      <td>False</td>\n",
       "      <td>False</td>\n",
       "      <td>False</td>\n",
       "      <td>False</td>\n",
       "      <td>False</td>\n",
       "      <td>False</td>\n",
       "      <td>False</td>\n",
       "    </tr>\n",
       "    <tr>\n",
       "      <th>1</th>\n",
       "      <td>MTY0OTUyMTM2MDExMjg3MjczMjU=</td>\n",
       "      <td>night</td>\n",
       "      <td>2</td>\n",
       "      <td>35</td>\n",
       "      <td>13</td>\n",
       "      <td>True</td>\n",
       "      <td>Los_Angeles</td>\n",
       "      <td>America</td>\n",
       "      <td>PartlyCloudy</td>\n",
       "      <td>18.6</td>\n",
       "      <td>...</td>\n",
       "      <td>False</td>\n",
       "      <td>False</td>\n",
       "      <td>False</td>\n",
       "      <td>False</td>\n",
       "      <td>False</td>\n",
       "      <td>True</td>\n",
       "      <td>False</td>\n",
       "      <td>False</td>\n",
       "      <td>False</td>\n",
       "      <td>False</td>\n",
       "    </tr>\n",
       "    <tr>\n",
       "      <th>2</th>\n",
       "      <td>MTQ0ODU1OTEzOTU1NTAyNzI4NjE=</td>\n",
       "      <td>night</td>\n",
       "      <td>0</td>\n",
       "      <td>5</td>\n",
       "      <td>0</td>\n",
       "      <td>True</td>\n",
       "      <td>New_York</td>\n",
       "      <td>America</td>\n",
       "      <td>PartlyCloudy</td>\n",
       "      <td>30.0</td>\n",
       "      <td>...</td>\n",
       "      <td>False</td>\n",
       "      <td>False</td>\n",
       "      <td>False</td>\n",
       "      <td>False</td>\n",
       "      <td>False</td>\n",
       "      <td>False</td>\n",
       "      <td>False</td>\n",
       "      <td>False</td>\n",
       "      <td>False</td>\n",
       "      <td>False</td>\n",
       "    </tr>\n",
       "    <tr>\n",
       "      <th>3</th>\n",
       "      <td>MTY1ODg1MzEwNzYzNDUzMDUwNTM=</td>\n",
       "      <td>morning</td>\n",
       "      <td>7</td>\n",
       "      <td>38</td>\n",
       "      <td>13</td>\n",
       "      <td>True</td>\n",
       "      <td>London</td>\n",
       "      <td>Europe</td>\n",
       "      <td>MostlyCloudy</td>\n",
       "      <td>18.5</td>\n",
       "      <td>...</td>\n",
       "      <td>False</td>\n",
       "      <td>False</td>\n",
       "      <td>False</td>\n",
       "      <td>False</td>\n",
       "      <td>False</td>\n",
       "      <td>False</td>\n",
       "      <td>False</td>\n",
       "      <td>False</td>\n",
       "      <td>False</td>\n",
       "      <td>False</td>\n",
       "    </tr>\n",
       "    <tr>\n",
       "      <th>4</th>\n",
       "      <td>MTY0NTg2OTA5MTkzOTE2MTc1MTc=</td>\n",
       "      <td>night</td>\n",
       "      <td>1</td>\n",
       "      <td>27</td>\n",
       "      <td>12</td>\n",
       "      <td>False</td>\n",
       "      <td>Chicago</td>\n",
       "      <td>America</td>\n",
       "      <td>Clear</td>\n",
       "      <td>20.2</td>\n",
       "      <td>...</td>\n",
       "      <td>False</td>\n",
       "      <td>False</td>\n",
       "      <td>False</td>\n",
       "      <td>False</td>\n",
       "      <td>False</td>\n",
       "      <td>False</td>\n",
       "      <td>False</td>\n",
       "      <td>False</td>\n",
       "      <td>False</td>\n",
       "      <td>False</td>\n",
       "    </tr>\n",
       "  </tbody>\n",
       "</table>\n",
       "<p>5 rows × 183 columns</p>\n",
       "</div>"
      ],
      "text/plain": [
       "                             id appearedTimeOfDay  appearedHour  \\\n",
       "0  MTA5MTEwOTYxMzM0NzA2NDEzNzM=           morning             8   \n",
       "1  MTY0OTUyMTM2MDExMjg3MjczMjU=             night             2   \n",
       "2  MTQ0ODU1OTEzOTU1NTAyNzI4NjE=             night             0   \n",
       "3  MTY1ODg1MzEwNzYzNDUzMDUwNTM=           morning             7   \n",
       "4  MTY0NTg2OTA5MTkzOTE2MTc1MTc=             night             1   \n",
       "\n",
       "   appearedMinute  terrainType  closeToWater         city continent  \\\n",
       "0              26           13         False    Ljubljana    Europe   \n",
       "1              35           13          True  Los_Angeles   America   \n",
       "2               5            0          True     New_York   America   \n",
       "3              38           13          True       London    Europe   \n",
       "4              27           12         False      Chicago   America   \n",
       "\n",
       "        weather  temperature    ...     cooc_142  cooc_143 cooc_144  cooc_145  \\\n",
       "0  MostlyCloudy         16.8    ...        False     False    False     False   \n",
       "1  PartlyCloudy         18.6    ...        False     False    False     False   \n",
       "2  PartlyCloudy         30.0    ...        False     False    False     False   \n",
       "3  MostlyCloudy         18.5    ...        False     False    False     False   \n",
       "4         Clear         20.2    ...        False     False    False     False   \n",
       "\n",
       "   cooc_146  cooc_147  cooc_148  cooc_149  cooc_150  cooc_151  \n",
       "0     False     False     False     False     False     False  \n",
       "1     False      True     False     False     False     False  \n",
       "2     False     False     False     False     False     False  \n",
       "3     False     False     False     False     False     False  \n",
       "4     False     False     False     False     False     False  \n",
       "\n",
       "[5 rows x 183 columns]"
      ]
     },
     "execution_count": 169,
     "metadata": {},
     "output_type": "execute_result"
    }
   ],
   "source": [
    "x_test = pd.read_csv(\"test.csv\")\n",
    "x_test.head()"
   ]
  },
  {
   "cell_type": "code",
   "execution_count": 170,
   "metadata": {},
   "outputs": [
    {
     "name": "stdout",
     "output_type": "stream",
     "text": [
      "(1791, 183)\n",
      "(1791, 182)\n"
     ]
    }
   ],
   "source": [
    "print (x_test.shape)\n",
    "x_test_id=x_test[\"id\"]\n",
    "x_test.drop(\"id\", axis = 1, inplace = True)\n",
    "print (x_test.shape)"
   ]
  },
  {
   "cell_type": "code",
   "execution_count": 171,
   "metadata": {},
   "outputs": [
    {
     "name": "stdout",
     "output_type": "stream",
     "text": [
      "Index(['appearedHour', 'appearedMinute', 'terrainType', 'closeToWater',\n",
      "       'temperature', 'windSpeed', 'pressure', 'population_density', 'urban',\n",
      "       'suburban',\n",
      "       ...\n",
      "       'cooc_142', 'cooc_143', 'cooc_144', 'cooc_145', 'cooc_146', 'cooc_147',\n",
      "       'cooc_148', 'cooc_149', 'cooc_150', 'cooc_151'],\n",
      "      dtype='object', length=177)\n",
      "Numerical features : 177\n"
     ]
    }
   ],
   "source": [
    "test_numerical_features = x_test.select_dtypes(exclude = [\"object\"]).columns\n",
    "print(test_numerical_features)\n",
    "\n",
    "print(\"Numerical features : \" + str(len(test_numerical_features)))\n",
    "test_feat_num = x_test[test_numerical_features]\n",
    "x_test=test_feat_num"
   ]
  },
  {
   "cell_type": "code",
   "execution_count": 172,
   "metadata": {},
   "outputs": [],
   "source": [
    "#y_test_pred=model_svc.predict(x_test)\n",
    "y_test_pred=model_xgboost.predict(x_test)"
   ]
  },
  {
   "cell_type": "code",
   "execution_count": 173,
   "metadata": {},
   "outputs": [
    {
     "data": {
      "text/html": [
       "<div>\n",
       "<style scoped>\n",
       "    .dataframe tbody tr th:only-of-type {\n",
       "        vertical-align: middle;\n",
       "    }\n",
       "\n",
       "    .dataframe tbody tr th {\n",
       "        vertical-align: top;\n",
       "    }\n",
       "\n",
       "    .dataframe thead th {\n",
       "        text-align: right;\n",
       "    }\n",
       "</style>\n",
       "<table border=\"1\" class=\"dataframe\">\n",
       "  <thead>\n",
       "    <tr style=\"text-align: right;\">\n",
       "      <th></th>\n",
       "      <th>id</th>\n",
       "      <th>class</th>\n",
       "    </tr>\n",
       "  </thead>\n",
       "  <tbody>\n",
       "    <tr>\n",
       "      <th>0</th>\n",
       "      <td>MTA5MTEwOTYxMzM0NzA2NDEzNzM=</td>\n",
       "      <td>2</td>\n",
       "    </tr>\n",
       "    <tr>\n",
       "      <th>1</th>\n",
       "      <td>MTY0OTUyMTM2MDExMjg3MjczMjU=</td>\n",
       "      <td>1</td>\n",
       "    </tr>\n",
       "    <tr>\n",
       "      <th>2</th>\n",
       "      <td>MTQ0ODU1OTEzOTU1NTAyNzI4NjE=</td>\n",
       "      <td>3</td>\n",
       "    </tr>\n",
       "    <tr>\n",
       "      <th>3</th>\n",
       "      <td>MTY1ODg1MzEwNzYzNDUzMDUwNTM=</td>\n",
       "      <td>3</td>\n",
       "    </tr>\n",
       "    <tr>\n",
       "      <th>4</th>\n",
       "      <td>MTY0NTg2OTA5MTkzOTE2MTc1MTc=</td>\n",
       "      <td>5</td>\n",
       "    </tr>\n",
       "  </tbody>\n",
       "</table>\n",
       "</div>"
      ],
      "text/plain": [
       "                             id  class\n",
       "0  MTA5MTEwOTYxMzM0NzA2NDEzNzM=      2\n",
       "1  MTY0OTUyMTM2MDExMjg3MjczMjU=      1\n",
       "2  MTQ0ODU1OTEzOTU1NTAyNzI4NjE=      3\n",
       "3  MTY1ODg1MzEwNzYzNDUzMDUwNTM=      3\n",
       "4  MTY0NTg2OTA5MTkzOTE2MTc1MTc=      5"
      ]
     },
     "execution_count": 173,
     "metadata": {},
     "output_type": "execute_result"
    }
   ],
   "source": [
    "prediction = pd.DataFrame(y_test_pred, columns=['class'])\n",
    "result = pd.concat([x_test_id, prediction], axis=1)\n",
    "# result = result.drop(resultlt.columns[0], 1)\n",
    "#result.columns\n",
    "result.head()"
   ]
  },
  {
   "cell_type": "code",
   "execution_count": 174,
   "metadata": {},
   "outputs": [],
   "source": [
    "result.to_csv('submission.csv', index=False)"
   ]
  },
  {
   "cell_type": "code",
   "execution_count": null,
   "metadata": {},
   "outputs": [],
   "source": []
  }
 ],
 "metadata": {
  "kernelspec": {
   "display_name": "Python 3",
   "language": "python",
   "name": "python3"
  },
  "language_info": {
   "codemirror_mode": {
    "name": "ipython",
    "version": 3
   },
   "file_extension": ".py",
   "mimetype": "text/x-python",
   "name": "python",
   "nbconvert_exporter": "python",
   "pygments_lexer": "ipython3",
   "version": "3.6.6"
  }
 },
 "nbformat": 4,
 "nbformat_minor": 2
}
